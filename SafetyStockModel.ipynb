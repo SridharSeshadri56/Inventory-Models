{
  "nbformat": 4,
  "nbformat_minor": 0,
  "metadata": {
    "anaconda-cloud": {},
    "kernelspec": {
      "display_name": "Python 3",
      "language": "python",
      "name": "python3"
    },
    "language_info": {
      "codemirror_mode": {
        "name": "ipython",
        "version": 3
      },
      "file_extension": ".py",
      "mimetype": "text/x-python",
      "name": "python",
      "nbconvert_exporter": "python",
      "pygments_lexer": "ipython3",
      "version": "3.5.1"
    },
    "colab": {
      "name": "SafetyStockModel.ipynb",
      "provenance": [],
      "collapsed_sections": [],
      "include_colab_link": true
    }
  },
  "cells": [
    {
      "cell_type": "markdown",
      "metadata": {
        "id": "view-in-github",
        "colab_type": "text"
      },
      "source": [
        "<a href=\"https://colab.research.google.com/github/SridharSeshadri56/Inventory-Models/blob/main/SafetyStockModel.ipynb\" target=\"_parent\"><img src=\"https://colab.research.google.com/assets/colab-badge.svg\" alt=\"Open In Colab\"/></a>"
      ]
    },
    {
      "cell_type": "markdown",
      "metadata": {
        "id": "bOj9y8wiQ42V"
      },
      "source": [
        "# Safety Stock Model"
      ]
    },
    {
      "cell_type": "markdown",
      "metadata": {
        "id": "UhTsIrmXQ42W"
      },
      "source": [
        "Enter demand (D) say per week, standard deviation of demand in same time units (sD), lead time to get supply (L) in same time units, and desired cycle service level (CSL) as a fraction CSL is the fraction of time have stock in a cycle. Typically between 0.85 and 0.99."
      ]
    },
    {
      "cell_type": "code",
      "metadata": {
        "id": "kClNpLgoQ42a"
      },
      "source": [
        "import numpy as np\n",
        "from scipy import stats \n",
        "NormalDist = stats.norm"
      ],
      "execution_count": 24,
      "outputs": []
    },
    {
      "cell_type": "markdown",
      "metadata": {
        "id": "3hR2TJGNVh-x"
      },
      "source": [
        "Here we enter the parameters of the model. "
      ]
    },
    {
      "cell_type": "code",
      "metadata": {
        "id": "zq2LffUpQ967"
      },
      "source": [
        "#Check your inputs\n",
        "D  = 2500 # Demand per period (for example per week)\n",
        "sD = 500 # Standard deviation of demand (in the same unit as demand)\n",
        "L  = 2 # weeks Replenishment lead time (this will be in same time unit)\n",
        "CSL= 0.95 # Desired cycle service level \n",
        "timeunit = \"week\" #User enters this for printing pruposes only. Not used in calculations\n",
        "Q = 10000  # Has to be entered by user if fill rate calculations are to carried out\n",
        "# It is assumed that the order quantity has been derived previously.\n",
        "# If fill rate is not desired, leave it blank."
      ],
      "execution_count": 25,
      "outputs": []
    },
    {
      "cell_type": "code",
      "metadata": {
        "id": "yIoWZ0eMV0rQ",
        "outputId": "eba1d762-78d7-4502-95c3-be6af795a868",
        "colab": {
          "base_uri": "https://localhost:8080/",
          "height": 139
        }
      },
      "source": [
        "print(colored(\"This is what you entered: \\n________________________\\n\",color='blue'))\n",
        "print(\"Demand                       = {} per {}\".format(D, timeunit))\n",
        "print(\"Standard deviation of demand = {} per {}\".format(sD, timeunit))\n",
        "print(\"Leadtime                     = {} {}s\".format(L,timeunit))\n",
        "print(\"Desired service level        = {}%\".format(CSL*100.0))"
      ],
      "execution_count": 26,
      "outputs": [
        {
          "output_type": "stream",
          "text": [
            "\u001b[34mThis is what you entered: \n",
            "________________________\n",
            "\u001b[0m\n",
            "Demand                       = 2500 per week\n",
            "Standard deviation of demand = 500 per week\n",
            "Leadtime                     = 2 weeks\n",
            "Desired service level        = 95.0%\n"
          ],
          "name": "stdout"
        }
      ]
    },
    {
      "cell_type": "markdown",
      "metadata": {
        "id": "oFZKDWBfV6US"
      },
      "source": [
        "Solution: Compute the reorder point (ROP) and safety stock ROP is the value of inventory position at which place an order Safety stock is the excess of stock over the mean demand during leadtime.\n",
        "\n",
        "Intermediate Calculation\n",
        "Mean demand during lead time: DL = D*L\n",
        "\n",
        "SD of demand during lead time: sL = sD * sqrt(L)"
      ]
    },
    {
      "cell_type": "code",
      "metadata": {
        "id": "u535IIDwV7Qs",
        "outputId": "52565242-d23e-4239-ac9e-c56ccd8105bf",
        "colab": {
          "base_uri": "https://localhost:8080/",
          "height": 52
        }
      },
      "source": [
        "DL = D*L\n",
        "sL = sD*np.sqrt(L)\n",
        "print(colored(\"Mean demand during leadtime  = {}\".format(DL),color='blue'))\n",
        "print(\"SD of demand during leadtime = {:.2f}\".format(sL))"
      ],
      "execution_count": 27,
      "outputs": [
        {
          "output_type": "stream",
          "text": [
            "\u001b[34mMean demand during leadtime  = 5000\u001b[0m\n",
            "SD of demand during leadtime = 707.11\n"
          ],
          "name": "stdout"
        }
      ]
    },
    {
      "cell_type": "markdown",
      "metadata": {
        "id": "lkGpvhSRWDOL"
      },
      "source": [
        "Safety stock is given by, ss = 𝑁𝑂𝑅𝑀𝑆𝐼𝑁𝑉(𝐶𝑆𝐿)×sL (here \"S\" stands for standard normal Reorder point ROP = DL + ss You can also directly compute ROP as NORMINV and directly enter mean and standard deviation along with CSL. In that case do not multiply by sL."
      ]
    },
    {
      "cell_type": "code",
      "metadata": {
        "id": "dssu28ZNWAGA",
        "outputId": "9472103f-5072-4983-c4f4-aa11f8018718",
        "colab": {
          "base_uri": "https://localhost:8080/",
          "height": 69
        }
      },
      "source": [
        "ss = NormalDist.isf(1-CSL, 0, 1)*sL\n",
        "ROP = DL + ss\n",
        "ROP1 = NormalDist.isf(1-CSL,DL, sL) # This gives same answer as above\n",
        "print(colored(ROP == ROP1,color='blue'))\n",
        "print(\"Safety Stock, ss   = {:.2f}\".format(ss))\n",
        "print(\"Reorder Point, ROP = {:.2f}\".format(ROP))"
      ],
      "execution_count": 28,
      "outputs": [
        {
          "output_type": "stream",
          "text": [
            "\u001b[34mTrue\u001b[0m\n",
            "Safety Stock, ss   = 1163.09\n",
            "Reorder Point, ROP = 6163.09\n"
          ],
          "name": "stdout"
        }
      ]
    },
    {
      "cell_type": "markdown",
      "metadata": {
        "id": "dYhFxPYoXJxK"
      },
      "source": [
        "Some what advanced material. Let us calculate fill rate. For this we need the order quantity (Q) \n",
        "𝐸𝑆𝐶= ss [1− NORMDIST(ss/𝜎_𝐿,0,1,1) + 𝜎_𝐿 𝑁𝑂𝑅𝑀𝐷𝐼𝑆𝑇(𝑠𝑠/𝜎_𝐿 , 0,1,0)).\n",
        "fr = (Q - ESC)/Q. \n",
        "ESC stands for expected shortage per cycle. We give user chance to change Cycle Service Level if desired\n",
        "\n"
      ]
    },
    {
      "cell_type": "code",
      "metadata": {
        "id": "zfai8tVsXLQp",
        "outputId": "7ea25300-c544-440d-d709-5eaf05d6f29c",
        "colab": {
          "base_uri": "https://localhost:8080/",
          "height": 208
        }
      },
      "source": [
        "print(f\"Cycle service level was = {CSL*100}%\")\n",
        "inCSL = -1\n",
        "while not(float(inCSL) and inCSL >0 and inCSL < 1):\n",
        "    inCSL = input(\"Enter value of CSL between 0 and 1: \")\n",
        "    try:\n",
        "        inCSL = float(inCSL)\n",
        "    except ValueError:\n",
        "        print(\"CSL has to be between zero and 1, try again\")\n",
        "        inCSL = -1\n",
        "    else:\n",
        "        if not( inCSL >0 and inCSL < 1):\n",
        "          print(\"You entered CSL = {}. Must be between 0 and 1. Try again! \".format(inCSL))\n",
        "\n",
        "print(colored(\"You entered Cycle Service Level = {:.2f}%\".format(inCSL*100), color = 'blue'))        \n",
        "ss = NormalDist.isf(1-inCSL,DL, sL) - DL\n",
        "ESC = -ss*(NormalDist.sf(ss/sL,0,1)) +sL*NormalDist.pdf(ss/sL,0,1)\n",
        "print(colored(\"*********************************************\\n\",color='blue'))\n",
        "print(\"Safety Stock, ss                     = {:.2f}\".format(ss))\n",
        "print(\"Reorder Point, ROP                   = {:.2f}\".format(DL+ss))\n",
        "print(\"The expected shortage per cycle, ESC = {:.2f}\".format(ESC))\n",
        "print(\"The fill rate, fr                    = {:.2f}%\".format((Q-ESC)/Q*100))"
      ],
      "execution_count": 32,
      "outputs": [
        {
          "output_type": "stream",
          "text": [
            "Cycle service level was = 95.0%\n",
            "Enter value of CSL between 0 and 1: 1.1\n",
            "You entered CSL = 1.1. Must be between 0 and 1. Try again! \n",
            "Enter value of CSL between 0 and 1: .8\n",
            "\u001b[34mYou entered Cycle Service Level = 80.00%\u001b[0m\n",
            "\u001b[34m*********************************************\n",
            "\u001b[0m\n",
            "Safety Stock, ss                     = 595.12\n",
            "Reorder Point, ROP                   = 5595.12\n",
            "The expected shortage per cycle, ESC = 78.94\n",
            "The fill rate, fr                    = 99.21%\n"
          ],
          "name": "stdout"
        }
      ]
    }
  ]
}