{
  "nbformat": 4,
  "nbformat_minor": 0,
  "metadata": {
    "anaconda-cloud": {},
    "kernelspec": {
      "display_name": "Python 3",
      "language": "python",
      "name": "python3"
    },
    "language_info": {
      "codemirror_mode": {
        "name": "ipython",
        "version": 3
      },
      "file_extension": ".py",
      "mimetype": "text/x-python",
      "name": "python",
      "nbconvert_exporter": "python",
      "pygments_lexer": "ipython3",
      "version": "3.5.1"
    },
    "colab": {
      "name": "EoqModel.ipynb",
      "provenance": [],
      "collapsed_sections": [],
      "include_colab_link": true
    }
  },
  "cells": [
    {
      "cell_type": "markdown",
      "metadata": {
        "id": "view-in-github",
        "colab_type": "text"
      },
      "source": [
        "<a href=\"https://colab.research.google.com/github/SridharSeshadri56/Inventory-Models/blob/main/EoqModel.ipynb\" target=\"_parent\"><img src=\"https://colab.research.google.com/assets/colab-badge.svg\" alt=\"Open In Colab\"/></a>"
      ]
    },
    {
      "cell_type": "markdown",
      "metadata": {
        "id": "bOj9y8wiQ42V"
      },
      "source": [
        "# EOQ Model"
      ]
    },
    {
      "cell_type": "markdown",
      "metadata": {
        "id": "UhTsIrmXQ42W"
      },
      "source": [
        "We will set up and solve the EOQ Model"
      ]
    },
    {
      "cell_type": "code",
      "metadata": {
        "id": "kClNpLgoQ42a"
      },
      "source": [
        "%matplotlib inline\n",
        "import matplotlib.pyplot as plt\n",
        "plt.style.use('seaborn-whitegrid')\n",
        "import numpy as np\n",
        "from termcolor import colored"
      ],
      "execution_count": 6,
      "outputs": []
    },
    {
      "cell_type": "markdown",
      "metadata": {
        "id": "3hR2TJGNVh-x"
      },
      "source": [
        "Here we enter the parameters of the model. "
      ]
    },
    {
      "cell_type": "code",
      "metadata": {
        "id": "zq2LffUpQ967",
        "outputId": "17ff2d9d-6ab6-49b3-ccb5-3ca50a762fbf",
        "colab": {
          "base_uri": "https://localhost:8080/",
          "height": 69
        }
      },
      "source": [
        "D = 1000.0 # Enter Annual Demand\n",
        "H = 20.0   # Enter holding cost per unit per year\n",
        "S = 100.0  # Enter ordering cost for placing one order\n",
        "C = 10.0   # Cost of one item\n",
        "StepSize = 10 # Step Size for order quantity\n",
        "StartQ = 10 # Starting value of order quantit\n",
        "EndQ   = 500 # Ending value of order quantity\n",
        "EOQ = np.sqrt(2*D*S/H)\n",
        "print(colored('Demand (D) is {}/year, holding cost (H) is ${} per unit per year'.format(D,H),color='blue'))\n",
        "print('Ordering cost (S) is ${} per order and unit cost (C) is ${} per unit'.format(S,C))\n",
        "print('Optimal order quantity = {:.1f}'.format(np.sqrt(2*D*S/H)))"
      ],
      "execution_count": 10,
      "outputs": [
        {
          "output_type": "stream",
          "text": [
            "\u001b[34mDemand (D) is 1000.0/year, holding cost (H) is $20.0 per unit per year\u001b[0m\n",
            "Ordering cost (S) is $100.0 per order and unit cost (C) is $10.0 per unit\n",
            "Optimal order quantity = 100.0\n"
          ],
          "name": "stdout"
        }
      ]
    },
    {
      "cell_type": "code",
      "metadata": {
        "id": "b3MZ7JwaVya7",
        "outputId": "20283689-78af-419b-b7ad-d199a8ba76ec",
        "colab": {
          "base_uri": "https://localhost:8080/",
          "height": 104
        }
      },
      "source": [
        "print(colored('Number of orders per year = {:.1f}'.format(D/EOQ), color='blue'))\n",
        "print('Ordering cost per year = ${:.1f}'.format(D*S/EOQ))\n",
        "print('Average inventory = {:.1f}'.format(EOQ/2))\n",
        "print('Holding cost per year ${:.1f}'.format(H*EOQ/2))\n",
        "print('Total Ordering and holding cost per year ${:.1f}'.format(np.sqrt(2*D*S*H)))"
      ],
      "execution_count": 11,
      "outputs": [
        {
          "output_type": "stream",
          "text": [
            "\u001b[34mNumber of orders per year = 10.0\u001b[0m\n",
            "Ordering cost per year = $1000.0\n",
            "Average inventory = 50.0\n",
            "Holding cost per year $1000.0\n",
            "Total Ordering and holding cost per year $2000.0\n"
          ],
          "name": "stdout"
        }
      ]
    },
    {
      "cell_type": "markdown",
      "metadata": {
        "id": "nKwckjwIQ42s"
      },
      "source": [
        "We now plot how the ordering and holding costs change with order quntity"
      ]
    },
    {
      "cell_type": "code",
      "metadata": {
        "id": "4LXhSkR_Q42t",
        "outputId": "c1503cf9-c3c0-4bc5-b8ca-ec7614ef6056",
        "colab": {
          "base_uri": "https://localhost:8080/",
          "height": 293
        }
      },
      "source": [
        "fig = plt.figure()\n",
        "ax = plt.axes()\n",
        "numpoints = int((EndQ - StartQ)/StepSize+1)\n",
        "x = np.linspace(StartQ, EndQ, numpoints)\n",
        "plt.xlabel('Order Quantity')\n",
        "plt.ylabel('$')\n",
        "ax.plot(x, S*D/x, color = 'black', linestyle = 'dashed', label = 'Ordering Cost');\n",
        "ax.plot(x, H*x/2, color = 'green', linestyle = 'dashed', label = 'Holding Cost');\n",
        "ax.plot(x, S*D/x + H*x/2, color = 'blue', linestyle = 'dashed', label = 'Total Cost');\n",
        "plt.legend()\n",
        "plt.axvspan(EOQ-1, EOQ+1, color='red', alpha=0.5)"
      ],
      "execution_count": null,
      "outputs": [
        {
          "output_type": "execute_result",
          "data": {
            "text/plain": [
              "<matplotlib.patches.Polygon at 0x7f90ec676e48>"
            ]
          },
          "metadata": {
            "tags": []
          },
          "execution_count": 14
        },
        {
          "output_type": "display_data",
          "data": {
            "image/png": "[encoded data removed]",
            "text/plain": [
              "<Figure size 432x288 with 1 Axes>"
            ]
          },
          "metadata": {
            "tags": []
          }
        }
      ]
    }
  ]
}
