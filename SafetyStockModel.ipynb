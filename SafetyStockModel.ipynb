{
  "nbformat": 4,
  "nbformat_minor": 0,
  "metadata": {
    "anaconda-cloud": {},
    "kernelspec": {
      "display_name": "Python 3",
      "language": "python",
      "name": "python3"
    },
    "language_info": {
      "codemirror_mode": {
        "name": "ipython",
        "version": 3
      },
      "file_extension": ".py",
      "mimetype": "text/x-python",
      "name": "python",
      "nbconvert_exporter": "python",
      "pygments_lexer": "ipython3",
      "version": "3.5.1"
    },
    "colab": {
      "name": "SafetyStockModel.ipynb",
      "provenance": [],
      "collapsed_sections": [],
      "include_colab_link": true
    }
  },
  "cells": [
    {
      "cell_type": "markdown",
      "metadata": {
        "id": "view-in-github",
        "colab_type": "text"
      },
      "source": [
        "<a href=\"https://colab.research.google.com/github/SridharSeshadri56/Inventory-Models/blob/main/SafetyStockModel.ipynb\" target=\"_parent\"><img src=\"https://colab.research.google.com/assets/colab-badge.svg\" alt=\"Open In Colab\"/></a>"
      ]
    },
    {
      "cell_type": "markdown",
      "metadata": {
        "id": "bOj9y8wiQ42V"
      },
      "source": [
        "# Safety Stock Model (continuous review)"
      ]
    },
    {
      "cell_type": "markdown",
      "metadata": {
        "id": "UhTsIrmXQ42W"
      },
      "source": [
        "We will set up and solve for the Safety Stock. First load some packages."
      ]
    },
    {
      "cell_type": "code",
      "metadata": {
        "id": "kClNpLgoQ42a"
      },
      "source": [
        "import numpy as np\n",
        "from scipy import stats\n"
      ],
      "execution_count": 21,
      "outputs": []
    },
    {
      "cell_type": "markdown",
      "metadata": {
        "id": "3hR2TJGNVh-x"
      },
      "source": [
        "Here we enter the parameters of the model. "
      ]
    },
    {
      "cell_type": "code",
      "metadata": {
        "id": "zq2LffUpQ967"
      },
      "source": [
        "#Check your inputs\n",
        "D  = 2500 # Demand per period (for example per week)\n",
        "sD = 500 # Standard deviation of demand (in the same unit as demand)\n",
        "L  = 2 # weeks Replenishment lead time (this will be in same time unit)\n",
        "CSL= 0.95 # Desired cycle service level \n",
        "timeunit = \"week\" #User enters this for printing pruposes only. Not used in calculations\n",
        "Q = 10000  # Has to be entered by user if fill rate calculations are to carried out\n",
        "# It is assumed that the order quantity has been derived previously.\n",
        "# If fill rate is not desired, leave it blank.\n"
      ],
      "execution_count": 12,
      "outputs": []
    },
    {
      "cell_type": "code",
      "metadata": {
        "id": "b3MZ7JwaVya7",
        "outputId": "c56bad83-70d3-475d-9e29-8db51d7717a7",
        "colab": {
          "base_uri": "https://localhost:8080/"
        }
      },
      "source": [
        "print(\"Demand                       = {} per {}\".format(D, timeunit))\n",
        "print(\"Standard deviation of demand = {} per {}\".format(sD, timeunit))\n",
        "print(\"Leadtime                     = {} {}s\".format(L,timeunit))\n",
        "print(\"Desired service level        = {}%\".format(CSL*100.0))"
      ],
      "execution_count": 22,
      "outputs": [
        {
          "output_type": "stream",
          "text": [
            "Demand                       = 2500 per week\n",
            "Standard deviation of demand = 500 per week\n",
            "Leadtime                     = 2 weeks\n",
            "Desired service level        = 95.0%\n"
          ],
          "name": "stdout"
        }
      ]
    },
    {
      "cell_type": "markdown",
      "metadata": {
        "id": "nKwckjwIQ42s"
      },
      "source": [
        "Solution: Compute the reorder point (ROP) and safety stock ROP is the value of inventory position at which place an order Safety stock is the excess of stock over the mean demand during leadtime.\n",
        "\n",
        "Intermediate Calculation\n",
        "Mean demand during lead time DL = D*L\n",
        "\n",
        "SD of demand during lead time sL = sD * sqrt(L)"
      ]
    },
    {
      "cell_type": "code",
      "metadata": {
        "id": "4LXhSkR_Q42t",
        "outputId": "de353f59-1c74-492d-b807-d2a9f21a1751",
        "colab": {
          "base_uri": "https://localhost:8080/"
        }
      },
      "source": [
        "DL = D*L\n",
        "sL = sD*np.sqrt(L)\n",
        "print(\"Mean demand during leadtime  = {}\".format(DL))\n",
        "print(\"SD of demand during leadtime = {:.2f}\".format(sL))"
      ],
      "execution_count": 23,
      "outputs": [
        {
          "output_type": "stream",
          "text": [
            "Mean demand during leadtime  = 5000\n",
            "SD of demand during leadtime = 707.11\n"
          ],
          "name": "stdout"
        }
      ]
    },
    {
      "cell_type": "markdown",
      "metadata": {
        "id": "IowebvMctQec"
      },
      "source": [
        ""
      ]
    },
    {
      "cell_type": "markdown",
      "metadata": {
        "id": "2ShXJIjqtVSU"
      },
      "source": [
        "Safety stock is given by, ss = 𝑁𝑂𝑅𝑀𝑆𝐼𝑁𝑉(𝐶𝑆𝐿)×sL (here \"S\" stands for standard normal Reorder point ROP = DL + ss You can also directly compute ROP as NORMINV and directly enter mean and standard deviation"
      ]
    },
    {
      "cell_type": "code",
      "metadata": {
        "id": "odYk8_WxtWrM",
        "outputId": "d78451f7-f5c7-48be-9779-1db02a6defed",
        "colab": {
          "base_uri": "https://localhost:8080/"
        }
      },
      "source": [
        "ss = stats.norm.isf(1-CSL, 0, 1)*sL\n",
        "ROP = DL + ss\n",
        "ROP1 = stats.norm.isf(1-CSL, DL, sL) # This gives same answer as above\n",
        "ROP == ROP1\n",
        "print(\"Safety Stock, ss   = {:.2f}\".format(ss))\n",
        "print(\"Reorder Point, ROP = {:.2f}\".format(ROP))"
      ],
      "execution_count": 24,
      "outputs": [
        {
          "output_type": "stream",
          "text": [
            "Safety Stock, ss   = 1163.09\n",
            "Reorder Point, ROP = 6163.09\n"
          ],
          "name": "stdout"
        }
      ]
    },
    {
      "cell_type": "markdown",
      "metadata": {
        "id": "56KbPBCMvFvH"
      },
      "source": [
        "Some what advanced material. Let us calculate fill rate. For this we need the order quantity (Q) 𝐸𝑆𝐶(𝐵9)= ss [1− NORMDIST(ss/𝜎_𝐿,0,1,1) + 𝜎_𝐿 𝑁𝑂𝑅𝑀𝐷𝐼𝑆𝑇(𝑠𝑠/𝜎_𝐿 , 0,1,0)) fr (C9) = (Q - ESC)/Q. ESC stands for expected shortage per cycle. We give user chance to change Cycle Service Level if desired"
      ]
    },
    {
      "cell_type": "code",
      "metadata": {
        "id": "QRpH6KfCvJ4a",
        "outputId": "64d51480-b81e-4911-819e-2b8a9642fcb2",
        "colab": {
          "base_uri": "https://localhost:8080/"
        }
      },
      "source": [
        "print(f\"Cycle service level was = {CSL*100}%\")\n",
        "inCSL = -1\n",
        "while not(float(inCSL) and inCSL >0 and inCSL < 1):\n",
        "    inCSL = input(\"Enter value of CSL between 0 and 1: \")\n",
        "    try:\n",
        "        inCSL = float(inCSL)\n",
        "    except ValueError:\n",
        "        print(\"CSL has to be between zero and 1, try again\")\n",
        "        inCSL = -1\n",
        "    if  not(ValueError and inCSL >0 and inCSL < 1):\n",
        "        print(\"You entered CSL = {}. Must be between 0 and 1. Try again! \".format(inCSL))\n",
        "print(\"You entered Cycle Service Level = {:.2f}%\".format(inCSL*100))        \n",
        "ss = stats.norm.isf(1-inCSL,DL,sL) - DL\n",
        "ESC =  -ss*(1-stats.norm.cdf(ss/sL)) +sL*stats.norm.pdf(ss/sL)\n",
        "print(\"*********************************************\\n\")\n",
        "print(\"Safety Stock, ss                     = {:.2f}\".format(ss))\n",
        "print(\"Reorder Point, ROP                   = {:.2f}\".format(DL+ss))\n",
        "print(\"The expected shortage per cycle, ESC = {:.2f}\".format(ESC))\n",
        "print(\"The fill rate, fr                    = {:.2f}%\".format((Q-ESC)/Q*100))\n"
      ],
      "execution_count": 26,
      "outputs": [
        {
          "output_type": "stream",
          "text": [
            "Cycle service level was = 95.0%\n",
            "Enter value of CSL between 0 and 1: .95\n",
            "You entered Cycle Service Level = 95.00%\n",
            "*********************************************\n",
            "\n",
            "Safety Stock, ss                     = 1163.09\n",
            "Reorder Point, ROP                   = 6163.09\n",
            "The expected shortage per cycle, ESC = 14.77\n",
            "The fill rate, fr                    = 99.85%\n"
          ],
          "name": "stdout"
        }
      ]
    },
    {
      "cell_type": "markdown",
      "metadata": {
        "id": "lyw5cz24vG4h"
      },
      "source": [
        ""
      ]
    }
  ]
}