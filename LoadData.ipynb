{
  "nbformat": 4,
  "nbformat_minor": 0,
  "metadata": {
    "kernelspec": {
      "display_name": "Python 3",
      "language": "python",
      "name": "python3"
    },
    "language_info": {
      "codemirror_mode": {
        "name": "ipython",
        "version": 3
      },
      "file_extension": ".py",
      "mimetype": "text/x-python",
      "name": "python",
      "nbconvert_exporter": "python",
      "pygments_lexer": "ipython3",
      "version": "3.8.3"
    },
    "colab": {
      "name": "LoadData.ipynb",
      "provenance": [],
      "include_colab_link": true
    }
  },
  "cells": [
    {
      "cell_type": "markdown",
      "metadata": {
        "id": "view-in-github",
        "colab_type": "text"
      },
      "source": [
        "<a href=\"https://colab.research.google.com/github/SridharSeshadri56/Inventory-Models/blob/main/LoadData.ipynb\" target=\"_parent\"><img src=\"https://colab.research.google.com/assets/colab-badge.svg\" alt=\"Open In Colab\"/></a>"
      ]
    },
    {
      "cell_type": "code",
      "metadata": {
        "id": "yuraFHRlWkZC",
        "collapsed": true
      },
      "source": [
        "!pip install yahoo-fin"
      ],
      "execution_count": null,
      "outputs": []
    },
    {
      "cell_type": "markdown",
      "metadata": {
        "id": "r4dQMwFSXfQU"
      },
      "source": [
        "Import Yahoo Fin stock info package"
      ]
    },
    {
      "cell_type": "code",
      "metadata": {
        "id": "vxlxjS-0WkZK"
      },
      "source": [
        "import yahoo_fin.stock_info as yf\n",
        "import pandas as pd\n",
        "import time"
      ],
      "execution_count": 2,
      "outputs": []
    },
    {
      "cell_type": "markdown",
      "metadata": {
        "id": "1potWNgXXw70"
      },
      "source": [
        "Create Data Frames to hold analysis. Balance sheet and income statement will be read from Yahoo Finance. Years hold the years (date) information"
      ]
    },
    {
      "cell_type": "code",
      "metadata": {
        "id": "W9vctilYWkZN"
      },
      "source": [
        "balance_sheet = []\n",
        "income_statement = []\n",
        "\n",
        "years = []\n",
        "\n",
        "summary = pd.DataFrame(columns = ['Ticker', 'Year', 'ROE',\n",
        "                                  'ROA', 'ROFL',\n",
        "                                  'Profit Margin', 'Asset Turnover', \n",
        "                                 'APT', 'ART', 'INVT', 'PPET', 'C2C', 'S&GA/Revenue'])\n",
        "\n",
        "tickers = yf.tickers_sp500()"
      ],
      "execution_count": 3,
      "outputs": []
    },
    {
      "cell_type": "markdown",
      "metadata": {
        "id": "dApIYowWYF3s"
      },
      "source": [
        "This is function to read data given the ticker symbol."
      ]
    },
    {
      "cell_type": "code",
      "metadata": {
        "id": "_6WAxdAyWkZQ"
      },
      "source": [
        "def get_data(ticker):\n",
        "    global balance_sheet\n",
        "    global income_statement\n",
        "    global cfs\n",
        "    global years\n",
        "    balance_sheet = yf.get_balance_sheet(ticker)\n",
        "    income_statement = yf.get_income_statement(ticker)\n",
        "    cfs = yf.get_cash_flow(ticker)\n",
        "    years = balance_sheet.columns\n"
      ],
      "execution_count": 4,
      "outputs": []
    },
    {
      "cell_type": "markdown",
      "metadata": {
        "id": "bkD-fzLZYKnm"
      },
      "source": [
        "The next functions does all the calculations for most recent two years"
      ]
    },
    {
      "cell_type": "code",
      "metadata": {
        "id": "-4sC2B12WkZS"
      },
      "source": [
        "def get_calcs():\n",
        "    \n",
        "    global ROA, ROE, ROFL, Profit_Margin, Asset_Turnover, APT, ART, INVT, PPET, C2C, SGR\n",
        "    global ROA_py, ROE_py, ROFL_py, Profit_Margin_py, Asset_Turnover_py, APT_py, ART_py, INVT_py, PPET_py, C2C_py, SGR_py    \n",
        "    \n",
        "    netIncome = income_statement[years[0]]['netIncome']\n",
        "    netIncome_py = income_statement[years[1]]['netIncome']\n",
        "    \n",
        "    totalAssets = balance_sheet[years[0]]['totalAssets']\n",
        "    totalAssets_py = balance_sheet[years[1]]['totalAssets']\n",
        "    \n",
        "    interestExpense = income_statement[years[0]]['interestExpense']       \n",
        "    interestExpense_py = income_statement[years[1]]['interestExpense']  \n",
        "    \n",
        "    totalShareholderEquity = balance_sheet[years[0]]['totalStockholderEquity']\n",
        "    totalShareholderEquity_py = balance_sheet[years[1]]['totalStockholderEquity']\n",
        "    \n",
        "    totalRevenue = income_statement[years[0]]['totalRevenue']\n",
        "    totalRevenue_py = income_statement[years[1]]['totalRevenue']\n",
        "    \n",
        "    cogs = income_statement[years[0]]['totalRevenue'] - income_statement[years[0]]['grossProfit']\n",
        "    cogs_py = income_statement[years[1]]['totalRevenue'] - income_statement[years[1]]['grossProfit']\n",
        "    \n",
        "    netReceivables = balance_sheet[years[0]]['netReceivables']\n",
        "    netReceivables_py = balance_sheet[years[1]]['netReceivables']\n",
        "    \n",
        "    inventory = balance_sheet[years[0]]['inventory']\n",
        "    inventory_py = balance_sheet[years[1]]['inventory']\n",
        "\n",
        "    pPE  = balance_sheet[years[0]]['propertyPlantEquipment']\n",
        "    pPE_py  = balance_sheet[years[1]]['propertyPlantEquipment']\n",
        "    \n",
        "    sga = income_statement[years[0]]['sellingGeneralAdministrative']\n",
        "    sga_py = income_statement[years[1]]['sellingGeneralAdministrative']\n",
        "    \n",
        "    accountsPayable = balance_sheet[years[0]]['accountsPayable']\n",
        "    accountsPayable_py = balance_sheet[years[1]]['accountsPayable']\n",
        "    \n",
        " \n",
        "    ROE = netIncome/totalShareholderEquity\n",
        "    \n",
        "    ROA = (netIncome + (1-0.35)*interestExpense )/totalAssets\n",
        "    \n",
        "    ROFL = ROE - ROA\n",
        "    \n",
        "  \n",
        "    Profit_Margin = (netIncome + (1-0.35)*interestExpense )/totalRevenue\n",
        "    \n",
        "    Asset_Turnover = totalRevenue/totalAssets\n",
        "    \n",
        "    APT = cogs/accountsPayable\n",
        "    \n",
        "    ART = totalRevenue/netReceivables\n",
        "    \n",
        "    INVT = cogs/inventory\n",
        "    \n",
        "    PPET = totalRevenue/pPE\n",
        "    \n",
        "    C2C = -1.0/APT + 1.0/ART + 1.0/INVT\n",
        "    \n",
        "    SGR = sga/totalRevenue\n",
        "    \n",
        "    ROE_py = netIncome_py/totalShareholderEquity_py\n",
        "    \n",
        "        \n",
        "    ROA_py = (netIncome_py + (1-0.35)*interestExpense_py )/totalAssets_py\n",
        "    \n",
        "    ROFL_py = ROE_py - ROA_py\n",
        "    \n",
        "    Profit_Margin_py = (netIncome_py + (1-0.35)*interestExpense_py )/totalRevenue_py\n",
        "    \n",
        "    Asset_Turnover_py = totalRevenue_py/totalAssets_py\n",
        "    \n",
        "    APT_py = cogs_py/accountsPayable_py\n",
        "    \n",
        "    ART_py = totalRevenue_py/netReceivables_py\n",
        "    \n",
        "    INVT_py = cogs_py/inventory_py\n",
        "    \n",
        "    PPET_py = totalRevenue_py/pPE_py\n",
        "    \n",
        "    C2C_py = -1.0/APT_py + 1.0/ART_py + 1.0/INVT_py\n",
        "    \n",
        "    SGR_py = sga_py/totalRevenue_py\n",
        "   "
      ],
      "execution_count": 5,
      "outputs": []
    },
    {
      "cell_type": "markdown",
      "metadata": {
        "id": "66F5m7gDYQ-I"
      },
      "source": [
        "You can choose the ticker symbol or use the index to refer to the ticker symbol which was read above. If you want to just use one ticker you can avoid the outer loop. It shows progress as calculations happen."
      ]
    },
    {
      "cell_type": "code",
      "metadata": {
        "id": "kvQb6iJGWkZW",
        "colab": {
          "base_uri": "https://localhost:8080/"
        },
        "outputId": "72af0d02-d385-45fc-ae8c-d237bc34bf71"
      },
      "source": [
        "for ticker in tickers[41:42]:\n",
        "    try:\n",
        "        get_data(ticker)\n",
        "        get_calcs()\n",
        "       \n",
        "        new_row = {'Ticker': ticker,'Year': years[0], \n",
        "                   'ROE': ROE,\n",
        "                   'ROA': ROA, 'ROFL': ROFL,\n",
        "                   'Profit Margin': Profit_Margin, 'Asset Turnover': Asset_Turnover, \n",
        "                   'APT':APT, 'ART':ART, 'INVT':INVT, 'PPET':PPET, 'C2C':C2C, 'S&GA/Revenue':SGR}\n",
        "\n",
        "        summary = summary.append(new_row, ignore_index = True)\n",
        "        new_row = {'Ticker': ticker,'Year': years[1], \n",
        "                   'ROE': ROE_py,\n",
        "                   'ROA': ROA_py, 'ROFL': ROFL_py,\n",
        "                   'Profit Margin': Profit_Margin_py, 'Asset Turnover': Asset_Turnover_py, \n",
        "                   'APT':APT_py, 'ART':ART_py, 'INVT':INVT_py, 'PPET':PPET_py, 'C2C':C2C_py, 'S&GA/Revenue':SGR_py}\n",
        "\n",
        "        summary = summary.append(new_row, ignore_index = True)\n",
        "        print(ticker + ' added.')\n",
        "        time.sleep(3)\n",
        "    except:\n",
        "        print(ticker + ': Something went wrong.')\n",
        "\n",
        "summary.to_csv('Summary.csv')"
      ],
      "execution_count": 6,
      "outputs": [
        {
          "output_type": "stream",
          "name": "stdout",
          "text": [
            "APD added.\n"
          ]
        }
      ]
    },
    {
      "cell_type": "markdown",
      "metadata": {
        "id": "zdwZhyVqYhjq"
      },
      "source": [
        "It creates a csv file. You can also see results below."
      ]
    },
    {
      "cell_type": "code",
      "metadata": {
        "id": "MgrfhWWpWkZa"
      },
      "source": [
        "summary"
      ],
      "execution_count": null,
      "outputs": []
    },
    {
      "cell_type": "markdown",
      "metadata": {
        "id": "cUu7Lk5AtaXd"
      },
      "source": [
        "Thanks to ideas from https://github.com/kosta93/Fundamental_analysis"
      ]
    },
    {
      "cell_type": "code",
      "metadata": {
        "id": "bjSJXqYWWkZc"
      },
      "source": [
        ""
      ],
      "execution_count": null,
      "outputs": []
    }
  ]
}