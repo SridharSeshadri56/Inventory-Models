{
  "nbformat": 4,
  "nbformat_minor": 0,
  "metadata": {
    "kernelspec": {
      "display_name": "Python 3",
      "language": "python",
      "name": "python3"
    },
    "language_info": {
      "codemirror_mode": {
        "name": "ipython",
        "version": 3
      },
      "file_extension": ".py",
      "mimetype": "text/x-python",
      "name": "python",
      "nbconvert_exporter": "python",
      "pygments_lexer": "ipython3",
      "version": "3.8.3"
    },
    "colab": {
      "name": "LoadData.ipynb",
      "provenance": [],
      "include_colab_link": true
    }
  },
  "cells": [
    {
      "cell_type": "markdown",
      "metadata": {
        "id": "view-in-github",
        "colab_type": "text"
      },
      "source": [
        "<a href=\"https://colab.research.google.com/github/SridharSeshadri56/Inventory-Models/blob/main/LoadData.ipynb\" target=\"_parent\"><img src=\"https://colab.research.google.com/assets/colab-badge.svg\" alt=\"Open In Colab\"/></a>"
      ]
    },
    {
      "cell_type": "code",
      "metadata": {
        "colab": {
          "base_uri": "https://localhost:8080/"
        },
        "id": "yuraFHRlWkZC",
        "outputId": "a88d0e10-5aa9-4b02-8c18-afb4fea2e822"
      },
      "source": [
        "!pip install yahoo-fin"
      ],
      "execution_count": 2,
      "outputs": [
        {
          "output_type": "stream",
          "name": "stdout",
          "text": [
            "Collecting yahoo-fin\n",
            "  Downloading yahoo_fin-0.8.9.1-py3-none-any.whl (10 kB)\n",
            "Requirement already satisfied: requests in /usr/local/lib/python3.7/dist-packages (from yahoo-fin) (2.23.0)\n",
            "Collecting feedparser\n",
            "  Downloading feedparser-6.0.8-py3-none-any.whl (81 kB)\n",
            "\u001b[K     |████████████████████████████████| 81 kB 4.2 MB/s \n",
            "\u001b[?25hRequirement already satisfied: pandas in /usr/local/lib/python3.7/dist-packages (from yahoo-fin) (1.1.5)\n",
            "Collecting requests-html\n",
            "  Downloading requests_html-0.10.0-py3-none-any.whl (13 kB)\n",
            "Collecting sgmllib3k\n",
            "  Downloading sgmllib3k-1.0.0.tar.gz (5.8 kB)\n",
            "Requirement already satisfied: numpy>=1.15.4 in /usr/local/lib/python3.7/dist-packages (from pandas->yahoo-fin) (1.19.5)\n",
            "Requirement already satisfied: python-dateutil>=2.7.3 in /usr/local/lib/python3.7/dist-packages (from pandas->yahoo-fin) (2.8.2)\n",
            "Requirement already satisfied: pytz>=2017.2 in /usr/local/lib/python3.7/dist-packages (from pandas->yahoo-fin) (2018.9)\n",
            "Requirement already satisfied: six>=1.5 in /usr/local/lib/python3.7/dist-packages (from python-dateutil>=2.7.3->pandas->yahoo-fin) (1.15.0)\n",
            "Requirement already satisfied: idna<3,>=2.5 in /usr/local/lib/python3.7/dist-packages (from requests->yahoo-fin) (2.10)\n",
            "Requirement already satisfied: certifi>=2017.4.17 in /usr/local/lib/python3.7/dist-packages (from requests->yahoo-fin) (2021.5.30)\n",
            "Requirement already satisfied: chardet<4,>=3.0.2 in /usr/local/lib/python3.7/dist-packages (from requests->yahoo-fin) (3.0.4)\n",
            "Requirement already satisfied: urllib3!=1.25.0,!=1.25.1,<1.26,>=1.21.1 in /usr/local/lib/python3.7/dist-packages (from requests->yahoo-fin) (1.24.3)\n",
            "Requirement already satisfied: bs4 in /usr/local/lib/python3.7/dist-packages (from requests-html->yahoo-fin) (0.0.1)\n",
            "Collecting pyppeteer>=0.0.14\n",
            "  Downloading pyppeteer-0.2.6-py3-none-any.whl (83 kB)\n",
            "\u001b[K     |████████████████████████████████| 83 kB 2.4 MB/s \n",
            "\u001b[?25hCollecting pyquery\n",
            "  Downloading pyquery-1.4.3-py3-none-any.whl (22 kB)\n",
            "Collecting fake-useragent\n",
            "  Downloading fake-useragent-0.1.11.tar.gz (13 kB)\n",
            "Collecting w3lib\n",
            "  Downloading w3lib-1.22.0-py2.py3-none-any.whl (20 kB)\n",
            "Collecting parse\n",
            "  Downloading parse-1.19.0.tar.gz (30 kB)\n",
            "Requirement already satisfied: appdirs<2.0.0,>=1.4.3 in /usr/local/lib/python3.7/dist-packages (from pyppeteer>=0.0.14->requests-html->yahoo-fin) (1.4.4)\n",
            "Collecting pyee<9.0.0,>=8.1.0\n",
            "  Downloading pyee-8.2.2-py2.py3-none-any.whl (12 kB)\n",
            "Requirement already satisfied: importlib-metadata>=1.4 in /usr/local/lib/python3.7/dist-packages (from pyppeteer>=0.0.14->requests-html->yahoo-fin) (4.8.1)\n",
            "Collecting urllib3!=1.25.0,!=1.25.1,<1.26,>=1.21.1\n",
            "  Downloading urllib3-1.25.11-py2.py3-none-any.whl (127 kB)\n",
            "\u001b[K     |████████████████████████████████| 127 kB 48.2 MB/s \n",
            "\u001b[?25hRequirement already satisfied: tqdm<5.0.0,>=4.42.1 in /usr/local/lib/python3.7/dist-packages (from pyppeteer>=0.0.14->requests-html->yahoo-fin) (4.62.3)\n",
            "Collecting websockets<10.0,>=9.1\n",
            "  Downloading websockets-9.1-cp37-cp37m-manylinux2010_x86_64.whl (103 kB)\n",
            "\u001b[K     |████████████████████████████████| 103 kB 56.3 MB/s \n",
            "\u001b[?25hRequirement already satisfied: typing-extensions>=3.6.4 in /usr/local/lib/python3.7/dist-packages (from importlib-metadata>=1.4->pyppeteer>=0.0.14->requests-html->yahoo-fin) (3.7.4.3)\n",
            "Requirement already satisfied: zipp>=0.5 in /usr/local/lib/python3.7/dist-packages (from importlib-metadata>=1.4->pyppeteer>=0.0.14->requests-html->yahoo-fin) (3.6.0)\n",
            "Requirement already satisfied: beautifulsoup4 in /usr/local/lib/python3.7/dist-packages (from bs4->requests-html->yahoo-fin) (4.6.3)\n",
            "Requirement already satisfied: lxml>=2.1 in /usr/local/lib/python3.7/dist-packages (from pyquery->requests-html->yahoo-fin) (4.2.6)\n",
            "Collecting cssselect>0.7.9\n",
            "  Downloading cssselect-1.1.0-py2.py3-none-any.whl (16 kB)\n",
            "Building wheels for collected packages: fake-useragent, parse, sgmllib3k\n",
            "  Building wheel for fake-useragent (setup.py) ... \u001b[?25l\u001b[?25hdone\n",
            "  Created wheel for fake-useragent: filename=fake_useragent-0.1.11-py3-none-any.whl size=13502 sha256=8e9fdadf89e48476a31c31da7b2e5879718f5055b8b9cf1f162db66b13cac85a\n",
            "  Stored in directory: /root/.cache/pip/wheels/ed/f7/62/50ab6c9a0b5567267ab76a9daa9d06315704209b2c5d032031\n",
            "  Building wheel for parse (setup.py) ... \u001b[?25l\u001b[?25hdone\n",
            "  Created wheel for parse: filename=parse-1.19.0-py3-none-any.whl size=24591 sha256=0987622ea2ea24aef2d5764bc3543f4a8c484b93ba1e1354a8cc8d7cf359e652\n",
            "  Stored in directory: /root/.cache/pip/wheels/9c/aa/cc/f2228050ccb40f22144b073f15a2c84f11204f29fc0dce028e\n",
            "  Building wheel for sgmllib3k (setup.py) ... \u001b[?25l\u001b[?25hdone\n",
            "  Created wheel for sgmllib3k: filename=sgmllib3k-1.0.0-py3-none-any.whl size=6065 sha256=fae2181e243113d1321dd241d21cc0edc4ad8295997ab17ba26b1419fac9fec8\n",
            "  Stored in directory: /root/.cache/pip/wheels/73/ad/a4/0dff4a6ef231fc0dfa12ffbac2a36cebfdddfe059f50e019aa\n",
            "Successfully built fake-useragent parse sgmllib3k\n",
            "Installing collected packages: websockets, urllib3, pyee, cssselect, w3lib, sgmllib3k, pyquery, pyppeteer, parse, fake-useragent, requests-html, feedparser, yahoo-fin\n",
            "  Attempting uninstall: urllib3\n",
            "    Found existing installation: urllib3 1.24.3\n",
            "    Uninstalling urllib3-1.24.3:\n",
            "      Successfully uninstalled urllib3-1.24.3\n",
            "\u001b[31mERROR: pip's dependency resolver does not currently take into account all the packages that are installed. This behaviour is the source of the following dependency conflicts.\n",
            "datascience 0.10.6 requires folium==0.2.1, but you have folium 0.8.3 which is incompatible.\u001b[0m\n",
            "Successfully installed cssselect-1.1.0 fake-useragent-0.1.11 feedparser-6.0.8 parse-1.19.0 pyee-8.2.2 pyppeteer-0.2.6 pyquery-1.4.3 requests-html-0.10.0 sgmllib3k-1.0.0 urllib3-1.25.11 w3lib-1.22.0 websockets-9.1 yahoo-fin-0.8.9.1\n"
          ]
        }
      ]
    },
    {
      "cell_type": "code",
      "metadata": {
        "id": "vxlxjS-0WkZK"
      },
      "source": [
        "import yahoo_fin.stock_info as yf\n",
        "import pandas as pd\n",
        "import time"
      ],
      "execution_count": 3,
      "outputs": []
    },
    {
      "cell_type": "code",
      "metadata": {
        "id": "W9vctilYWkZN"
      },
      "source": [
        "balance_sheet = []\n",
        "income_statement = []\n",
        "cfs = []\n",
        "years = []\n",
        "profitability_score = 0\n",
        "leverage_score = 0\n",
        "operating_efficiency_score = 0\n",
        "pe_ratio = 0\n",
        "\n",
        "summary = pd.DataFrame(columns = ['Ticker', 'Year', 'ROE',\n",
        "                                  'ROA', 'ROFL',\n",
        "                                  'Profit Margin', 'Asset Turnover', \n",
        "                                 'APT', 'ART', 'INVT', 'PPET', 'C2C', 'S&GA/Revenue'])\n",
        "\n",
        "tickers = yf.tickers_sp500()"
      ],
      "execution_count": 4,
      "outputs": []
    },
    {
      "cell_type": "code",
      "metadata": {
        "id": "_6WAxdAyWkZQ"
      },
      "source": [
        "def get_data(ticker):\n",
        "    global balance_sheet\n",
        "    global income_statement\n",
        "    global cfs\n",
        "    global years\n",
        "    balance_sheet = yf.get_balance_sheet(ticker)\n",
        "    income_statement = yf.get_income_statement(ticker)\n",
        "    cfs = yf.get_cash_flow(ticker)\n",
        "    years = balance_sheet.columns\n"
      ],
      "execution_count": 5,
      "outputs": []
    },
    {
      "cell_type": "code",
      "metadata": {
        "id": "-4sC2B12WkZS"
      },
      "source": [
        "def get_calcs():\n",
        "    \n",
        "    global ROA, ROE, ROFL, Profit_Margin, Asset_Turnover, APT, ART, INVT, PPET, C2C, SGR\n",
        "    global ROA_py, ROE_py, ROFL_py, Profit_Margin_py, Asset_Turnover_py, APT_py, ART_py, INVT_py, PPET_py, C2C_py, SGR_py    \n",
        "    \n",
        "    netIncome = income_statement[years[0]]['netIncome']\n",
        "    netIncome_py = income_statement[years[1]]['netIncome']\n",
        "    \n",
        "    totalAssets = balance_sheet[years[0]]['totalAssets']\n",
        "    totalAssets_py = balance_sheet[years[1]]['totalAssets']\n",
        "    \n",
        "    interestExpense = income_statement[years[0]]['interestExpense']       \n",
        "    interestExpense_py = income_statement[years[1]]['interestExpense']  \n",
        "    \n",
        "    totalShareholderEquity = balance_sheet[years[0]]['totalStockholderEquity']\n",
        "    totalShareholderEquity_py = balance_sheet[years[1]]['totalStockholderEquity']\n",
        "    \n",
        "    totalRevenue = income_statement[years[0]]['totalRevenue']\n",
        "    totalRevenue_py = income_statement[years[1]]['totalRevenue']\n",
        "    \n",
        "    cogs = income_statement[years[0]]['totalRevenue'] - income_statement[years[0]]['grossProfit']\n",
        "    cogs_py = income_statement[years[1]]['totalRevenue'] - income_statement[years[1]]['grossProfit']\n",
        "    \n",
        "    netReceivables = balance_sheet[years[0]]['netReceivables']\n",
        "    netReceivables_py = balance_sheet[years[1]]['netReceivables']\n",
        "    \n",
        "    inventory = balance_sheet[years[0]]['inventory']\n",
        "    inventory_py = balance_sheet[years[1]]['inventory']\n",
        "\n",
        "    pPE  = balance_sheet[years[0]]['propertyPlantEquipment']\n",
        "    pPE_py  = balance_sheet[years[1]]['propertyPlantEquipment']\n",
        "    \n",
        "    sga = income_statement[years[0]]['sellingGeneralAdministrative']\n",
        "    sga_py = income_statement[years[1]]['sellingGeneralAdministrative']\n",
        "    \n",
        "    accountsPayable = balance_sheet[years[0]]['accountsPayable']\n",
        "    accountsPayable_py = balance_sheet[years[1]]['accountsPayable']\n",
        "    \n",
        " \n",
        "    ROE = netIncome/totalShareholderEquity\n",
        "    \n",
        "    ROA = (netIncome + (1-0.35)*interestExpense )/totalAssets\n",
        "    \n",
        "    ROFL = ROE - ROA\n",
        "    \n",
        "  \n",
        "    Profit_Margin = (netIncome + (1-0.35)*interestExpense )/totalRevenue\n",
        "    \n",
        "    Asset_Turnover = totalRevenue/totalAssets\n",
        "    \n",
        "    APT = cogs/accountsPayable\n",
        "    \n",
        "    ART = totalRevenue/netReceivables\n",
        "    \n",
        "    INVT = cogs/inventory\n",
        "    \n",
        "    PPET = totalRevenue/pPE\n",
        "    \n",
        "    C2C = -1.0/APT + 1.0/ART + 1.0/INVT\n",
        "    \n",
        "    SGR = sga/totalRevenue\n",
        "    \n",
        "    ROE_py = netIncome_py/totalShareholderEquity_py\n",
        "    \n",
        "        \n",
        "    ROA_py = (netIncome_py + (1-0.35)*interestExpense_py )/totalAssets_py\n",
        "    \n",
        "    ROFL_py = ROE_py - ROA_py\n",
        "    \n",
        "    Profit_Margin_py = (netIncome_py + (1-0.35)*interestExpense_py )/totalRevenue_py\n",
        "    \n",
        "    Asset_Turnover_py = totalRevenue_py/totalAssets_py\n",
        "    \n",
        "    APT_py = cogs_py/accountsPayable_py\n",
        "    \n",
        "    ART_py = totalRevenue_py/netReceivables_py\n",
        "    \n",
        "    INVT_py = cogs_py/inventory_py\n",
        "    \n",
        "    PPET_py = totalRevenue_py/pPE_py\n",
        "    \n",
        "    C2C_py = -1.0/APT_py + 1.0/ART_py + 1.0/INVT_py\n",
        "    \n",
        "    SGR_py = sga_py/totalRevenue_py\n",
        "   "
      ],
      "execution_count": 6,
      "outputs": []
    },
    {
      "cell_type": "markdown",
      "metadata": {
        "id": "ZS37vu3vlLcO"
      },
      "source": [
        "I added a cell below to show how to get data if given a ticker symbol. "
      ]
    },
    {
      "cell_type": "code",
      "metadata": {
        "id": "1KgHfxprkBF9"
      },
      "source": [
        "ticker = 'AMZN'\n",
        "get_data(ticker)\n",
        "try:\n",
        "        get_data(ticker)\n",
        "        get_calcs()\n",
        "       \n",
        "        new_row = {'Ticker': ticker,'Year': years[0], \n",
        "                   'ROE': ROE,\n",
        "                   'ROA': ROA, 'ROFL': ROFL,\n",
        "                   'Profit Margin': Profit_Margin, 'Asset Turnover': Asset_Turnover, \n",
        "                   'APT':APT, 'ART':ART, 'INVT':INVT, 'PPET':PPET, 'C2C':C2C, 'S&GA/Revenue':SGR}\n",
        "\n",
        "        summary = summary.append(new_row, ignore_index = True)\n",
        "        new_row = {'Ticker': ticker,'Year': years[1], \n",
        "                   'ROE': ROE_py,\n",
        "                   'ROA': ROA_py, 'ROFL': ROFL_py,\n",
        "                   'Profit Margin': Profit_Margin_py, 'Asset Turnover': Asset_Turnover_py, \n",
        "                   'APT':APT_py, 'ART':ART_py, 'INVT':INVT_py, 'PPET':PPET_py, 'C2C':C2C_py, 'S&GA/Revenue':SGR_py}\n",
        "\n",
        "        summary = summary.append(new_row, ignore_index = True)\n",
        "        print(ticker + ' added.')\n",
        "        time.sleep(3)\n",
        "except:\n",
        "        print(ticker + ': Something went wrong.')\n",
        "\n",
        "summary.to_csv('Summary.csv')\n",
        "summary"
      ],
      "execution_count": null,
      "outputs": []
    },
    {
      "cell_type": "markdown",
      "metadata": {
        "id": "dQtERZv8lYd-"
      },
      "source": [
        "Here you can loop through multiple symbols "
      ]
    },
    {
      "cell_type": "code",
      "metadata": {
        "colab": {
          "base_uri": "https://localhost:8080/"
        },
        "id": "kvQb6iJGWkZW",
        "outputId": "1c622333-6db9-4b59-c733-9c600eb2e787"
      },
      "source": [
        "for ticker in tickers[4:6]:\n",
        "    try:\n",
        "        get_data(ticker)\n",
        "        get_calcs()\n",
        "       \n",
        "        new_row = {'Ticker': ticker,'Year': years[0], \n",
        "                   'ROE': ROE,\n",
        "                   'ROA': ROA, 'ROFL': ROFL,\n",
        "                   'Profit Margin': Profit_Margin, 'Asset Turnover': Asset_Turnover, \n",
        "                   'APT':APT, 'ART':ART, 'INVT':INVT, 'PPET':PPET, 'C2C':C2C, 'S&GA/Revenue':SGR}\n",
        "\n",
        "        summary = summary.append(new_row, ignore_index = True)\n",
        "        new_row = {'Ticker': ticker,'Year': years[1], \n",
        "                   'ROE': ROE_py,\n",
        "                   'ROA': ROA_py, 'ROFL': ROFL_py,\n",
        "                   'Profit Margin': Profit_Margin_py, 'Asset Turnover': Asset_Turnover_py, \n",
        "                   'APT':APT_py, 'ART':ART_py, 'INVT':INVT_py, 'PPET':PPET_py, 'C2C':C2C_py, 'S&GA/Revenue':SGR_py}\n",
        "\n",
        "        summary = summary.append(new_row, ignore_index = True)\n",
        "        print(ticker + ' added.')\n",
        "        time.sleep(3)\n",
        "    except:\n",
        "        print(ticker + ': Something went wrong.')\n",
        "\n",
        "summary.to_csv('Summary.csv')"
      ],
      "execution_count": null,
      "outputs": [
        {
          "output_type": "stream",
          "name": "stdout",
          "text": [
            "ABBV added.\n",
            "ABC added.\n"
          ]
        }
      ]
    },
    {
      "cell_type": "code",
      "metadata": {
        "colab": {
          "base_uri": "https://localhost:8080/",
          "height": 175
        },
        "id": "MgrfhWWpWkZa",
        "outputId": "c5cfc463-0712-40f8-aef1-1bd108d466af"
      },
      "source": [
        "summary"
      ],
      "execution_count": null,
      "outputs": [
        {
          "output_type": "execute_result",
          "data": {
            "text/html": [
              "<div>\n",
              "<style scoped>\n",
              "    .dataframe tbody tr th:only-of-type {\n",
              "        vertical-align: middle;\n",
              "    }\n",
              "\n",
              "    .dataframe tbody tr th {\n",
              "        vertical-align: top;\n",
              "    }\n",
              "\n",
              "    .dataframe thead th {\n",
              "        text-align: right;\n",
              "    }\n",
              "</style>\n",
              "<table border=\"1\" class=\"dataframe\">\n",
              "  <thead>\n",
              "    <tr style=\"text-align: right;\">\n",
              "      <th></th>\n",
              "      <th>Ticker</th>\n",
              "      <th>Year</th>\n",
              "      <th>ROE</th>\n",
              "      <th>ROA</th>\n",
              "      <th>ROFL</th>\n",
              "      <th>Profit Margin</th>\n",
              "      <th>Asset Turnover</th>\n",
              "      <th>APT</th>\n",
              "      <th>ART</th>\n",
              "      <th>INVT</th>\n",
              "      <th>PPET</th>\n",
              "      <th>C2C</th>\n",
              "      <th>S&amp;GA/Revenue</th>\n",
              "    </tr>\n",
              "  </thead>\n",
              "  <tbody>\n",
              "    <tr>\n",
              "      <th>0</th>\n",
              "      <td>ABBV</td>\n",
              "      <td>2020-12-31</td>\n",
              "      <td>0.353013</td>\n",
              "      <td>0.020064</td>\n",
              "      <td>0.332949</td>\n",
              "      <td>0.065953</td>\n",
              "      <td>0.304214</td>\n",
              "      <td>6.176186</td>\n",
              "      <td>5.192020</td>\n",
              "      <td>4.246828</td>\n",
              "      <td>7.456292</td>\n",
              "      <td>0.266161</td>\n",
              "      <td>0.215418</td>\n",
              "    </tr>\n",
              "    <tr>\n",
              "      <th>1</th>\n",
              "      <td>ABBV</td>\n",
              "      <td>2019-12-31</td>\n",
              "      <td>-0.964513</td>\n",
              "      <td>0.075435</td>\n",
              "      <td>-1.039948</td>\n",
              "      <td>0.202080</td>\n",
              "      <td>0.373293</td>\n",
              "      <td>5.123278</td>\n",
              "      <td>6.128592</td>\n",
              "      <td>4.103144</td>\n",
              "      <td>10.062311</td>\n",
              "      <td>0.211698</td>\n",
              "      <td>0.203301</td>\n",
              "    </tr>\n",
              "    <tr>\n",
              "      <th>2</th>\n",
              "      <td>ABC</td>\n",
              "      <td>2020-09-30</td>\n",
              "      <td>3.345408</td>\n",
              "      <td>-0.079317</td>\n",
              "      <td>3.424725</td>\n",
              "      <td>-0.018493</td>\n",
              "      <td>4.288981</td>\n",
              "      <td>5.825749</td>\n",
              "      <td>13.247124</td>\n",
              "      <td>14.671667</td>\n",
              "      <td>98.475845</td>\n",
              "      <td>-0.028005</td>\n",
              "      <td>0.014373</td>\n",
              "    </tr>\n",
              "    <tr>\n",
              "      <th>3</th>\n",
              "      <td>ABC</td>\n",
              "      <td>2019-09-30</td>\n",
              "      <td>0.297113</td>\n",
              "      <td>0.018593</td>\n",
              "      <td>0.278521</td>\n",
              "      <td>0.004055</td>\n",
              "      <td>4.584632</td>\n",
              "      <td>6.151003</td>\n",
              "      <td>14.491480</td>\n",
              "      <td>15.785956</td>\n",
              "      <td>101.433210</td>\n",
              "      <td>-0.030222</td>\n",
              "      <td>0.014831</td>\n",
              "    </tr>\n",
              "  </tbody>\n",
              "</table>\n",
              "</div>"
            ],
            "text/plain": [
              "  Ticker       Year       ROE  ...        PPET       C2C  S&GA/Revenue\n",
              "0   ABBV 2020-12-31  0.353013  ...    7.456292  0.266161      0.215418\n",
              "1   ABBV 2019-12-31 -0.964513  ...   10.062311  0.211698      0.203301\n",
              "2    ABC 2020-09-30  3.345408  ...   98.475845 -0.028005      0.014373\n",
              "3    ABC 2019-09-30  0.297113  ...  101.433210 -0.030222      0.014831\n",
              "\n",
              "[4 rows x 13 columns]"
            ]
          },
          "metadata": {},
          "execution_count": 8
        }
      ]
    },
    {
      "cell_type": "code",
      "metadata": {
        "id": "bjSJXqYWWkZc"
      },
      "source": [
        ""
      ],
      "execution_count": null,
      "outputs": []
    }
  ]
}