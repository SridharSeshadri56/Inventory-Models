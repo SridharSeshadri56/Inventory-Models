{
  "nbformat": 4,
  "nbformat_minor": 0,
  "metadata": {
    "anaconda-cloud": {},
    "kernelspec": {
      "display_name": "Python 3",
      "language": "python",
      "name": "python3"
    },
    "language_info": {
      "codemirror_mode": {
        "name": "ipython",
        "version": 3
      },
      "file_extension": ".py",
      "mimetype": "text/x-python",
      "name": "python",
      "nbconvert_exporter": "python",
      "pygments_lexer": "ipython3",
      "version": "3.5.1"
    },
    "colab": {
      "name": "SafetyStockModel.ipynb",
      "provenance": [],
      "collapsed_sections": [],
      "include_colab_link": true
    }
  },
  "cells": [
    {
      "cell_type": "markdown",
      "metadata": {
        "id": "view-in-github",
        "colab_type": "text"
      },
      "source": [
        "<a href=\"https://colab.research.google.com/github/SridharSeshadri56/Inventory-Models/blob/main/safetyStock.ipynb\" target=\"_parent\"><img src=\"https://colab.research.google.com/assets/colab-badge.svg\" alt=\"Open In Colab\"/></a>"
      ]
    },
   {
 "cells": [
  {
   "cell_type": "markdown",
   "metadata": {},
   "source": [
    "Safety Stock Caculation for EOQ model:\n",
    "\n",
    "Enter demand (D) say per week, standard deviation of demand in same time units (sD), \n",
    "lead time to get supply (L) in same time units, and desired cycle service level (CSL) as a fraction\n",
    "CSL is the fraction of time have stock in a cycle. Typically between 0.85 and 0.99."
   ]
  },
  {
   "cell_type": "code",
   "execution_count": 97,
   "metadata": {},
   "outputs": [],
   "source": [
    "import numpy as np\n",
    "from statistics import NormalDist"
   ]
  },
  {
   "cell_type": "code",
   "execution_count": 98,
   "metadata": {},
   "outputs": [],
   "source": [
    "#Check your inputs\n",
    "D  = 2500 # Demand per period (for example per week)\n",
    "sD = 500 # Standard deviation of demand (in the same unit as demand)\n",
    "L  = 2 # weeks Replenishment lead time (this will be in same time unit)\n",
    "CSL= 0.95 # Desired cycle service level \n",
    "timeunit = \"week\" #User enters this for printing pruposes only. Not used in calculations\n",
    "Q = 10000  # Has to be entered by user if fill rate calculations are to carried out\n",
    "# It is assumed that the order quantity has been derived previously.\n",
    "# If fill rate is not desired, leave it blank.\n",
    "\n"
   ]
  },
  {
   "cell_type": "code",
   "execution_count": 99,
   "metadata": {},
   "outputs": [
    {
     "name": "stdout",
     "output_type": "stream",
     "text": [
      "Demand                       = 2500 per week\n",
      "Standard deviation of demand = 500 per week\n",
      "Leadtime                     = 2 weeks\n",
      "Desired service level        = 95.0%\n"
     ]
    }
   ],
   "source": [
    "print(\"Demand                       = {} per {}\".format(D, timeunit))\n",
    "print(\"Standard deviation of demand = {} per {}\".format(sD, timeunit))\n",
    "print(\"Leadtime                     = {} {}s\".format(L,timeunit))\n",
    "print(\"Desired service level        = {}%\".format(CSL*100.0))"
   ]
  },
  {
   "cell_type": "markdown",
   "metadata": {},
   "source": [
    "Solution:\n",
    "Compute the reorder point (ROP) and safety stock\n",
    "ROP is the value of inventory position at which place an order\n",
    "Safety stock is the excess of stock over the mean demand during leadtime.\n",
    "\n",
    "Intermediate Calculation\t\t\t\t\n",
    "Mean demand during lead time DL =\tD*L \n",
    "\n",
    "SD of demand during lead time sL =\tsD * sqrt(L) \t\n",
    "\t\t\t\t"
   ]
  },
  {
   "cell_type": "code",
   "execution_count": 100,
   "metadata": {},
   "outputs": [
    {
     "name": "stdout",
     "output_type": "stream",
     "text": [
      "Mean demand during leadtime  = 5000\n",
      "SD of demand during leadtime = 707.11\n"
     ]
    }
   ],
   "source": [
    "DL = D*L\n",
    "sL = sD*np.sqrt(L)\n",
    "print(\"Mean demand during leadtime  = {}\".format(DL))\n",
    "print(\"SD of demand during leadtime = {:.2f}\".format(sL))"
   ]
  },
  {
   "attachments": {},
   "cell_type": "markdown",
   "metadata": {},
   "source": [
    "Safety stock is given by, ss = 𝑁𝑂𝑅𝑀𝑆𝐼𝑁𝑉(𝐶𝑆𝐿)×sL   (here \"S\" stands for standard normal\n",
    "Reorder point ROP = DL + ss \n",
    "You can also directly compute ROP as NORMINV and directly enter mean and standard deviation"
   ]
  },
  {
   "cell_type": "code",
   "execution_count": 101,
   "metadata": {},
   "outputs": [
    {
     "name": "stdout",
     "output_type": "stream",
     "text": [
      "Safety Stock, ss   = 1163.09\n",
      "Reorder Point, ROP = 6163.09\n"
     ]
    }
   ],
   "source": [
    "ss = NormalDist(0, 1).inv_cdf(CSL)*sL\n",
    "ROP = DL + ss\n",
    "ROP1 = NormalDist(DL, sL).inv_cdf(CSL) # This gives same answer as above\n",
    "ROP == ROP1\n",
    "print(\"Safety Stock, ss   = {:.2f}\".format(ss))\n",
    "print(\"Reorder Point, ROP = {:.2f}\".format(ROP))"
   ]
  },
  {
   "attachments": {},
   "cell_type": "markdown",
   "metadata": {},
   "source": [
    "Some what advanced material. Let us calculate fill rate. For this we need the order quantity (Q)\n",
    "𝐸𝑆𝐶(𝐵9)= ss [1− NORMDIST(ss/𝜎_𝐿,0,1,1) + 𝜎_𝐿 𝑁𝑂𝑅𝑀𝐷𝐼𝑆𝑇(𝑠𝑠/𝜎_𝐿 , 0,1,0))\n",
    "fr (C9) = (Q - ESC)/Q. ESC stands for expected shortage per cycle.\n",
    "We give user chance to change Cycle Service Level if desired"
   ]
  },
  {
   "cell_type": "code",
   "execution_count": 102,
   "metadata": {},
   "outputs": [
    {
     "name": "stdout",
     "output_type": "stream",
     "text": [
      "Cycle service level was = 95.0%\n",
      "Enter value of CSL between 0 and 1: .9\n",
      "You entered Cycle Service Level = 90.00%\n",
      "*********************************************\n",
      "\n",
      "Safety Stock, ss                     = 906.19\n",
      "Reorder Point, ROP                   = 5906.19\n",
      "The expected shortage per cycle, ESC = 33.48\n",
      "The fill rate, fr                    = 99.67%\n"
     ]
    }
   ],
   "source": [
    "print(f\"Cycle service level was = {CSL*100}%\")\n",
    "inCSL = -1\n",
    "while not(float(inCSL) and inCSL >0 and inCSL < 1):\n",
    "    inCSL = input(\"Enter value of CSL between 0 and 1: \")\n",
    "    try:\n",
    "        inCSL = float(inCSL)\n",
    "    except ValueError:\n",
    "        print(\"CSL has to be between zero and 1, try again\")\n",
    "        inCSL = -1\n",
    "    if  not(ValueError and inCSL >0 and inCSL < 1):\n",
    "        print(\"You entered CSL = {}. Must be between 0 and 1. Try again! \".format(inCSL))\n",
    "print(\"You entered Cycle Service Level = {:.2f}%\".format(inCSL*100))        \n",
    "ss = NormalDist(DL, sL).inv_cdf(inCSL) - DL\n",
    "ESC = -ss*(1-NormalDist(0,1).cdf(ss/sL)) +sL*NormalDist(0,1).pdf(ss/sL)\n",
    "print(\"*********************************************\\n\")\n",
    "print(\"Safety Stock, ss                     = {:.2f}\".format(ss))\n",
    "print(\"Reorder Point, ROP                   = {:.2f}\".format(DL+ss))\n",
    "print(\"The expected shortage per cycle, ESC = {:.2f}\".format(ESC))\n",
    "print(\"The fill rate, fr                    = {:.2f}%\".format((Q-ESC)/Q*100))\n"
   ]
  },
  {
   "cell_type": "code",
   "execution_count": null,
   "metadata": {},
   "outputs": [],
   "source": []
  },
  {
   "cell_type": "code",
   "execution_count": null,
   "metadata": {},
   "outputs": [],
   "source": []
  }
 ],
 "metadata": {
  "kernelspec": {
   "display_name": "Python 3",
   "language": "python",
   "name": "python3"
  },
  "language_info": {
   "codemirror_mode": {
    "name": "ipython",
    "version": 3
   },
   "file_extension": ".py",
   "mimetype": "text/x-python",
   "name": "python",
   "nbconvert_exporter": "python",
   "pygments_lexer": "ipython3",
   "version": "3.8.3"
  }
 },
 "nbformat": 4,
 "nbformat_minor": 4
}
