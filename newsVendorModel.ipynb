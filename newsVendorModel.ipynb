{
  "nbformat": 4,
  "nbformat_minor": 0,
  "metadata": {
    "anaconda-cloud": {},
    "kernelspec": {
      "display_name": "Python 3",
      "language": "python",
      "name": "python3"
    },
    "language_info": {
      "codemirror_mode": {
        "name": "ipython",
        "version": 3
      },
      "file_extension": ".py",
      "mimetype": "text/x-python",
      "name": "python",
      "nbconvert_exporter": "python",
      "pygments_lexer": "ipython3",
      "version": "3.5.1"
    },
    "colab": {
      "name": "newsVendorModel.ipynb",
      "provenance": [],
      "collapsed_sections": [],
      "include_colab_link": true
    }
  },
  "cells": [
    {
      "cell_type": "markdown",
      "metadata": {
        "id": "view-in-github",
        "colab_type": "text"
      },
      "source": [
        "<a href=\"https://colab.research.google.com/github/SridharSeshadri56/Inventory-Models/blob/main/newsVendorModel.ipynb\" target=\"_parent\"><img src=\"https://colab.research.google.com/assets/colab-badge.svg\" alt=\"Open In Colab\"/></a>"
      ]
    },
    {
      "cell_type": "markdown",
      "metadata": {
        "id": "bOj9y8wiQ42V"
      },
      "source": [
        "# News Vendor Model"
      ]
    },
    {
      "cell_type": "markdown",
      "metadata": {
        "id": "UhTsIrmXQ42W"
      },
      "source": [
        "This model calculates optimal order quantity when demand is seasonal. It also computes the expected sales, salvaged quantity and expected profit. It assumes that demand is distributed normally."
      ]
    },
    {
      "cell_type": "markdown",
      "metadata": {
        "id": "ghGrYJJS9LAt"
      },
      "source": [
        "We first import some packages."
      ]
    },
    {
      "cell_type": "code",
      "metadata": {
        "id": "kClNpLgoQ42a",
        "outputId": "b7a96180-1db6-440c-9992-f7203ec1043e",
        "colab": {
          "base_uri": "https://localhost:8080/"
        }
      },
      "source": [
        "!pip install tabulate\n",
        "!pip install termcolor\n",
        "from tabulate import tabulate\n",
        "import numpy as np\n",
        "import pandas as pd\n",
        "from termcolor import colored\n",
        "from math import ceil\n",
        "from scipy import stats\n",
        "NormalDist = stats.norm"
      ],
      "execution_count": 1,
      "outputs": [
        {
          "output_type": "stream",
          "text": [
            "Requirement already satisfied: tabulate in /usr/local/lib/python3.6/dist-packages (0.8.7)\n",
            "Requirement already satisfied: termcolor in /usr/local/lib/python3.6/dist-packages (1.1.0)\n"
          ],
          "name": "stdout"
        }
      ]
    },
    {
      "cell_type": "markdown",
      "metadata": {
        "id": "3hR2TJGNVh-x"
      },
      "source": [
        "Here we enter the parameters of the model. Enter the mean demand, stnadrad deviation of demand (during a season), the marginal benefit of one unit sold (selling price - cost usually), marginal cost of one unit (usually cost - salvage value if not sold during the season) and unti cost (cost of purchasing one item)"
      ]
    },
    {
      "cell_type": "code",
      "metadata": {
        "id": "zq2LffUpQ967"
      },
      "source": [
        "# Enter Data:\n",
        "MeanDemand      = 2000   # Enter the mean demand\n",
        "StdDevDemand    = 500  # Enter the standard deviation of demand\n",
        "MarginalBenefit = 200 # Enter the marginal benefit per unit (usually selling price - unit cost)\n",
        "MarginalCost    = 55  # Enter the marginal cost per unit (usually unit cost - salvage value per unit if unsold)\n",
        "UnitCost        = 250 # Enter the cost per unit\n"
      ],
      "execution_count": 2,
      "outputs": []
    },
    {
      "cell_type": "code",
      "metadata": {
        "id": "yIoWZ0eMV0rQ",
        "outputId": "da85d044-25c3-4373-f3a1-9877773165eb",
        "colab": {
          "base_uri": "https://localhost:8080/"
        }
      },
      "source": [
        "# Print data entered \n",
        "\n",
        "print(colored(\"\\nThis is the data you entered: \\n\", color = \"blue\"))\n",
        "print(\" Mean Demand      = {}  \".format(MeanDemand))\n",
        "print(\" StdDev Demand    = {} \".format(StdDevDemand))\n",
        "print(\" Marginal Benefit = {} \".format(MarginalBenefit))\n",
        "print(\" Marginal Cost    = {} \\n UnitCost         = {}\".format(MarginalBenefit, MarginalCost, UnitCost) )"
      ],
      "execution_count": 3,
      "outputs": [
        {
          "output_type": "stream",
          "text": [
            "\u001b[34m\n",
            "This is the data you entered: \n",
            "\u001b[0m\n",
            " Mean Demand      = 2000  \n",
            " StdDev Demand    = 500 \n",
            " Marginal Benefit = 200 \n",
            " Marginal Cost    = 200 \n",
            " UnitCost         = 55\n"
          ],
          "name": "stdout"
        }
      ]
    },
    {
      "cell_type": "markdown",
      "metadata": {
        "id": "oFZKDWBfV6US"
      },
      "source": [
        "First compute the Critical Ratio (which is the optimal fraction of demand to be served) and the Optimal Order Quantity based on the Critical Ratio."
      ]
    },
    {
      "cell_type": "code",
      "metadata": {
        "id": "u535IIDwV7Qs",
        "outputId": "1e1ae5bf-8e00-441e-a111-cb54c8c9a22e",
        "colab": {
          "base_uri": "https://localhost:8080/"
        }
      },
      "source": [
        "# Order Quantity calculations\n",
        "CriticalRatio = MarginalBenefit/(MarginalBenefit+MarginalCost)\n",
        "OrderQuantity = ceil(StdDevDemand*NormalDist.isf(1-CriticalRatio, 0, 1) + MeanDemand) # Rounded up\n",
        "\n",
        "print(colored(\" Critical Ratio and Order Quantity: \\n\", color = \"blue\"))\n",
        "print(\" Critical Ratio   = {:.3f}\".format(CriticalRatio))\n",
        "print(\" Order Quantity   = {}\".format(OrderQuantity))"
      ],
      "execution_count": 4,
      "outputs": [
        {
          "output_type": "stream",
          "text": [
            "\u001b[34m Critical Ratio and Order Quantity: \n",
            "\u001b[0m\n",
            " Critical Ratio   = 0.784\n",
            " Order Quantity   = 2394\n"
          ],
          "name": "stdout"
        }
      ]
    },
    {
      "cell_type": "markdown",
      "metadata": {
        "id": "lkGpvhSRWDOL"
      },
      "source": [
        "We now compute expected sales, expected units salvaged at end of season and the expected profit. We give option to change the order quantity."
      ]
    },
    {
      "cell_type": "code",
      "metadata": {
        "id": "dssu28ZNWAGA"
      },
      "source": [
        "# You can change the Order Quantity to examine effect on profit\n",
        "\n",
        "OrderQuantity = OrderQuantity  # Change the right hand side to your choice"
      ],
      "execution_count": null,
      "outputs": []
    },
    {
      "cell_type": "code",
      "metadata": {
        "id": "IO5w6adB-R7x",
        "outputId": "42ce6deb-9ec8-478c-d90b-c111dadcc612",
        "colab": {
          "base_uri": "https://localhost:8080/"
        }
      },
      "source": [
        "# Now for the more complex work of computing expected sales, expected salvage value and expected profit\n",
        "zValue = (OrderQuantity-MeanDemand)/StdDevDemand\n",
        "cdf = stats.norm.cdf(zValue)\n",
        "pdf = stats.norm.pdf(zValue)\n",
        "ExpectedSales  = OrderQuantity*(1-cdf)+MeanDemand*cdf-StdDevDemand*pdf\n",
        "ExpectedSalvage = OrderQuantity*cdf-MeanDemand*cdf + StdDevDemand*pdf\n",
        "ExpectedProfit = ExpectedSales*(MarginalBenefit + UnitCost) + ExpectedSalvage*(UnitCost - MarginalCost) - OrderQuantity*UnitCost\n",
         "print(" Order Quantity   = {}".format(OrderQuantity))\n",
        "print(colored(\" Expected Sales, Salvage, Profit: \\n\", color = \"blue\"))\n",
        "print(\" Expected Sales   = {:.1f} (units)\".format(ExpectedSales))\n",
        "print(\" Expected Salvage = {:.1f} (units)\".format(ExpectedSalvage))\n",
        "print(\" Expected Profit  = {:.2f} (dollars)\".format(ExpectedProfit))\n"
      ],
      "execution_count": 5,
      "outputs": [
        {
          "output_type": "stream",
          "text": [
            "\u001b[34m Expected Sales, Salvage, Profit: \n",
            "\u001b[0m\n",
            " Expected Sales   = 1938.6 (units)\n",
            " Expected Salvage = 455.4 (units)\n",
            " Expected Profit  = 362676.77 (dollars)\n"
          ],
          "name": "stdout"
        }
      ]
    },
    {
      "cell_type": "markdown",
      "metadata": {
        "id": "gELbHSEzkK5R"
      },
      "source": [
        "We can demonstrate the calculations using simulation. Here we generate the demand 10000 times. For the given order quantity calculate the underage and overage quantities. Use these to find the average sales, average quantity salvaged and the average profit."
      ]
    },
    {
      "cell_type": "code",
      "metadata": {
        "id": "rK8KFkEVj7jq",
        "outputId": "17f919c9-9a69-40eb-ed6f-006645075eb9",
        "colab": {
          "base_uri": "https://localhost:8080/",
          "height": 281
        }
      },
      "source": [
        "import matplotlib.pyplot as plt\n",
        "s = np.random.normal(MeanDemand, StdDevDemand, 10000)\n",
        "plt.hist(s)\n",
        "plt.title('Demand')\n",
        "plt.show()"
      ],
      "execution_count": 14,
      "outputs": [
        {
          "output_type": "display_data",
          "data": {
            "image/png": "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\n",
            "text/plain": [
              "<Figure size 432x288 with 1 Axes>"
            ]
          },
          "metadata": {
            "tags": [],
            "needs_background": "light"
          }
        }
      ]
    },
    {
      "cell_type": "code",
      "metadata": {
        "id": "4ZBCGp8Nj8pY"
      },
      "source": [
        "underage = np.zeros(10000)\n",
        "overage = np.zeros(10000)\n",
        "profit = np.zeros(10000)\n",
        "for i in range(10000):\n",
        "    underage[i] = max(s[i]-OrderQuantity,0)\n",
        "    overage[i] = max(OrderQuantity-s[i],0)\n",
        "    profit[i] = (s[i]-underage[i])*(MarginalBenefit + UnitCost) + overage[i]*(UnitCost - MarginalCost) - OrderQuantity*UnitCost"
      ],
      "execution_count": 15,
      "outputs": []
    },
    {
      "cell_type": "code",
      "metadata": {
        "id": "TNEys_95j_p7",
        "outputId": "cabbc797-033c-4bcc-974d-eb5fbeea5192",
        "colab": {
          "base_uri": "https://localhost:8080/",
          "height": 581
        }
      },
      "source": [
        "plt.hist(profit)\n",
        "plt.title('Profit')\n",
        "plt.show()\n",
        "aveunderage = np.average(underage)\n",
        "aveoverage = np.average(overage)\n",
        "avesales = MeanDemand - aveunderage\n",
        "print('Average Underage = {:.2f}, Average Overage = {:.2f}'.format(aveunderage, aveoverage))\n",
        "print('Expected Sales = {:.2f}, Expected Salvage = {:.2f}'.format(avesales,aveunderage))\n",
        "print('Expected Profit = {:.2f}'.format(avesales*(MarginalBenefit + UnitCost) \n",
        "                        + aveoverage*(UnitCost - MarginalCost) - OrderQuantity*UnitCost ))\n",
        "plt.hist([underage, overage], bins='auto', label = ['underage', 'overage'])\n",
        "plt.legend(loc='upper right')\n",
        "plt.show()"
      ],
      "execution_count": 16,
      "outputs": [
        {
          "output_type": "display_data",
          "data": {
            "image/png": "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\n",
            "text/plain": [
              "<Figure size 432x288 with 1 Axes>"
            ]
          },
          "metadata": {
            "tags": [],
            "needs_background": "light"
          }
        },
        {
          "output_type": "stream",
          "text": [
            "Average Underage = 59.48, Average Overage = 451.47\n",
            "Expected Sales = 1940.52, Expected Salvage = 59.48\n",
            "Expected Profit = 362768.87\n"
          ],
          "name": "stdout"
        },
        {
          "output_type": "display_data",
          "data": {
            "image/png": "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\n",
            "text/plain": [
              "<Figure size 432x288 with 1 Axes>"
            ]
          },
          "metadata": {
            "tags": [],
            "needs_background": "light"
          }
        }
      ]
    }
  ]
}
