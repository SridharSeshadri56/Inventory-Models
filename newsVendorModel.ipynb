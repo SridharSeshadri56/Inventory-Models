{
  "nbformat": 4,
  "nbformat_minor": 0,
  "metadata": {
    "anaconda-cloud": {},
    "kernelspec": {
      "display_name": "Python 3",
      "language": "python",
      "name": "python3"
    },
    "language_info": {
      "codemirror_mode": {
        "name": "ipython",
        "version": 3
      },
      "file_extension": ".py",
      "mimetype": "text/x-python",
      "name": "python",
      "nbconvert_exporter": "python",
      "pygments_lexer": "ipython3",
      "version": "3.5.1"
    },
    "colab": {
      "name": "newsVendorModel.ipynb",
      "provenance": [],
      "collapsed_sections": [],
      "include_colab_link": true
    }
  },
  "cells": [
    {
      "cell_type": "markdown",
      "metadata": {
        "id": "view-in-github",
        "colab_type": "text"
      },
      "source": [
        "<a href=\"https://colab.research.google.com/github/SridharSeshadri56/Inventory-Models/blob/main/newsVendorModel.ipynb\" target=\"_parent\"><img src=\"https://colab.research.google.com/assets/colab-badge.svg\" alt=\"Open In Colab\"/></a>"
      ]
    },
    {
      "cell_type": "markdown",
      "metadata": {
        "id": "bOj9y8wiQ42V"
      },
      "source": [
        "# Safety Stock Model"
      ]
    },
    {
      "cell_type": "markdown",
      "metadata": {
        "id": "UhTsIrmXQ42W"
      },
      "source": [
        "This model calculates optimal order quantity when demand is seasonal. It also computes the expected sales, salvaged quantity and expected profit. It assumes that demand is distributed normally."
      ]
    },
    {
      "cell_type": "markdown",
      "metadata": {
        "id": "ghGrYJJS9LAt"
      },
      "source": [
        "We first import some packages."
      ]
    },
    {
      "cell_type": "code",
      "metadata": {
        "id": "kClNpLgoQ42a",
        "outputId": "094cebae-f2ff-439b-b031-d89c07cdc6ad",
        "colab": {
          "base_uri": "https://localhost:8080/"
        }
      },
      "source": [
        "!pip install tabulate\n",
        "!pip install termcolor\n",
        "from tabulate import tabulate\n",
        "import numpy as np\n",
        "import pandas as pd\n",
        "from termcolor import colored\n",
        "from math import ceil\n",
        "from scipy import stats\n",
        "NormalDist = stats.norm"
      ],
      "execution_count": 9,
      "outputs": [
        {
          "output_type": "stream",
          "text": [
            "Requirement already satisfied: tabulate in /usr/local/lib/python3.6/dist-packages (0.8.7)\n",
            "Requirement already satisfied: termcolor in /usr/local/lib/python3.6/dist-packages (1.1.0)\n"
          ],
          "name": "stdout"
        }
      ]
    },
    {
      "cell_type": "markdown",
      "metadata": {
        "id": "3hR2TJGNVh-x"
      },
      "source": [
        "Here we enter the parameters of the model. Enter the mean demand, stnadrad deviation of demand (during a season), the marginal benefit of one unit sold (selling price - cost usually), marginal cost of one unit (usually cost - salvage value if not sold during the season) and unti cost (cost of purchasing one item)"
      ]
    },
    {
      "cell_type": "code",
      "metadata": {
        "id": "zq2LffUpQ967"
      },
      "source": [
        "# Enter Data:\n",
        "MeanDemand      = 2000   # Enter the mean demand\n",
        "StdDevDemand    = 500  # Enter the standard deviation of demand\n",
        "MarginalBenefit = 200 # Enter the marginal benefit per unit (usually selling price - unit cost)\n",
        "MarginalCost    = 55  # Enter the marginal cost per unit (usually unit cost - salvage value per unit if unsold)\n",
        "UnitCost        = 250 # Enter the cost per unit\n"
      ],
      "execution_count": 10,
      "outputs": []
    },
    {
      "cell_type": "code",
      "metadata": {
        "id": "yIoWZ0eMV0rQ",
        "outputId": "3e41d25b-dbe1-4743-a3b1-f2e62b5d78f4",
        "colab": {
          "base_uri": "https://localhost:8080/"
        }
      },
      "source": [
        "# Print data entered \n",
        "\n",
        "print(colored(\"\\nThis is the data you entered: \\n\", color = \"blue\"))\n",
        "print(\" Mean Demand      = {}  \".format(MeanDemand))\n",
        "print(\" StdDev Demand    = {} \".format(StdDevDemand))\n",
        "print(\" Marginal Benefit = {} \".format(MarginalBenefit))\n",
        "print(\" Marginal Cost    = {} \\n UnitCost         = {}\".format(MarginalBenefit, MarginalCost, UnitCost) )"
      ],
      "execution_count": 11,
      "outputs": [
        {
          "output_type": "stream",
          "text": [
            "\u001b[34m\n",
            "This is the data you entered: \n",
            "\u001b[0m\n",
            " Mean Demand      = 2000  \n",
            " StdDev Demand    = 500 \n",
            " Marginal Benefit = 200 \n",
            " Marginal Cost    = 200 \n",
            " UnitCost         = 55\n"
          ],
          "name": "stdout"
        }
      ]
    },
    {
      "cell_type": "markdown",
      "metadata": {
        "id": "oFZKDWBfV6US"
      },
      "source": [
        "First compute the Critical Ratio (which is the optimal fraction of demand to be served) and the Optimal Order Quantity based on the Critical Ratio."
      ]
    },
    {
      "cell_type": "code",
      "metadata": {
        "id": "u535IIDwV7Qs",
        "outputId": "27e2c8d5-7150-4b1d-a459-78f1bfa96ae9",
        "colab": {
          "base_uri": "https://localhost:8080/"
        }
      },
      "source": [
        "# Order Quantity calculations\n",
        "CriticalRatio = MarginalBenefit/(MarginalBenefit+MarginalCost)\n",
        "OrderQuantity = ceil(StdDevDemand*NormalDist.isf(1-CriticalRatio, 0, 1) + MeanDemand) # Rounded up\n",
        "\n",
        "print(colored(\" Critical Ratio and Order Quantity: \\n\", color = \"blue\"))\n",
        "print(\" Critical Ratio   = {:.3f}\".format(CriticalRatio))\n",
        "print(\" Order Quantity   = {}\".format(OrderQuantity))"
      ],
      "execution_count": 13,
      "outputs": [
        {
          "output_type": "stream",
          "text": [
            "\u001b[34m Critical Ratio and Order Quantity: \n",
            "\u001b[0m\n",
            " Critical Ratio   = 0.784\n",
            " Order Quantity   = 2394\n"
          ],
          "name": "stdout"
        }
      ]
    },
    {
      "cell_type": "markdown",
      "metadata": {
        "id": "lkGpvhSRWDOL"
      },
      "source": [
        "We now compite expected sales, expected units salvaged at end of season and the expected profit. We give option to change the order quantity."
      ]
    },
    {
      "cell_type": "code",
      "metadata": {
        "id": "dssu28ZNWAGA"
      },
      "source": [
        "# You can change the Order Quantity to examine effect on profit\n",
        "\n",
        "OrderQuantity = OrderQuantity  # Change the right hand side to your choice"
      ],
      "execution_count": 15,
      "outputs": []
    },
    {
      "cell_type": "code",
      "metadata": {
        "id": "IO5w6adB-R7x",
        "outputId": "165d9e97-d75c-476f-e705-66820beea59c",
        "colab": {
          "base_uri": "https://localhost:8080/"
        }
      },
      "source": [
        "# Now for the more complex work of computing expected sales, expected salvage value and expected profit\n",
        "zValue = (OrderQuantity-MeanDemand)/StdDevDemand\n",
        "cdf = stats.norm.cdf(zValue)\n",
        "pdf = stats.norm.pdf(zValue)\n",
        "ExpectedSales  = OrderQuantity*(1-cdf)+MeanDemand*cdf-StdDevDemand*pdf\n",
        "ExpectedSalvage = OrderQuantity*cdf-MeanDemand*cdf + StdDevDemand*pdf\n",
        "ExpectedProfit = ExpectedSales*(MarginalBenefit + UnitCost) + ExpectedSalvage*(UnitCost - MarginalCost) - OrderQuantity*UnitCost\n",
        "print(colored(\" Expected Sales, Salvage, Profit: \\n\", color = \"blue\"))\n",
        "print(\" Expected Sales   = {:.1f} (units)\".format(ExpectedSales))\n",
        "print(\" Expected Salvage = {:.1f} (units)\".format(ExpectedSalvage))\n",
        "print(\" Expected Profit  = {:.2f} (dollars)\".format(ExpectedProfit))\n"
      ],
      "execution_count": 16,
      "outputs": [
        {
          "output_type": "stream",
          "text": [
            "\u001b[34m Expected Sales, Salvage, Profit: \n",
            "\u001b[0m\n",
            " Expected Sales   = 1938.6 (units)\n",
            " Expected Salvage = 455.4 (units)\n",
            " Expected Profit  = 362676.77 (dollars)\n"
          ],
          "name": "stdout"
        }
      ]
    }
  ]
}