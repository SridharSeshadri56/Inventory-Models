{
  "nbformat": 4,
  "nbformat_minor": 0,
  "metadata": {
    "anaconda-cloud": {},
    "kernelspec": {
      "display_name": "Python 3",
      "language": "python",
      "name": "python3"
    },
    "language_info": {
      "codemirror_mode": {
        "name": "ipython",
        "version": 3
      },
      "file_extension": ".py",
      "mimetype": "text/x-python",
      "name": "python",
      "nbconvert_exporter": "python",
      "pygments_lexer": "ipython3",
      "version": "3.5.1"
    },
    "colab": {
      "name": "SafetyStockModel.ipynb",
      "provenance": [],
      "collapsed_sections": [],
      "include_colab_link": true
    }
  },
  "cells": [
    {
      "cell_type": "markdown",
      "metadata": {
        "id": "view-in-github",
        "colab_type": "text"
      },
      "source": [
        "<a href=\"https://colab.research.google.com/github/SridharSeshadri56/Inventory-Models/blob/main/SafetyStockModel.ipynb\" target=\"_parent\"><img src=\"https://colab.research.google.com/assets/colab-badge.svg\" alt=\"Open In Colab\"/></a>"
      ]
    },
    {
      "cell_type": "markdown",
      "metadata": {
        "id": "bOj9y8wiQ42V"
      },
      "source": [
        "# Periodic Review Model"
      ]
    },
    {
      "cell_type": "markdown",
      "metadata": {
        "id": "UhTsIrmXQ42W"
      },
      "source": [
        "Enter demand (D) say per week, standard deviation of demand in same time units (sD), lead time to get supply (L) in same time units, and desired cycle service level (CSL) as a fraction CSL is the fraction of time have stock in a cycle. Typically between 0.85 and 0.99.\n",
        "Enter the length of the review period (T)."
      ]
    },
    {
      "cell_type": "code",
      "metadata": {
        "id": "kClNpLgoQ42a"
      },
      "source": [
        "import numpy as np\n",
        "from scipy import stats \n",
        "NormalDist = stats.norm"
      ],
      "execution_count": 2,
      "outputs": []
    },
    {
      "cell_type": "markdown",
      "metadata": {
        "id": "3hR2TJGNVh-x"
      },
      "source": [
        "Here we enter the parameters of the model. "
      ]
    },
    {
      "cell_type": "code",
      "metadata": {
        "id": "zq2LffUpQ967"
      },
      "source": [
        "#Check your inputs\n",
        "D  = 2500 # Demand per period (for example per week)\n",
        "sD = 500 # Standard deviation of demand (in the same unit as demand)\n",
        "L  = 2 # weeks Replenishment lead time (this will be in same time unit)\n",
        "T  = 4 # weeks Time between review of inventory (this will be in same time unit)\n",
        "CSL= 0.95 # Desired cycle service level \n",
        "timeunit = \"week\" #User enters this for printing pruposes only. Not used in calculations"
      ],
      "execution_count": 3,
      "outputs": []
    },
    {
      "cell_type": "code",
      "metadata": {
        "id": "yIoWZ0eMV0rQ",
        "outputId": "b9d24b04-1067-46ab-9f39-039fd7c58548",
        "colab": {
          "base_uri": "https://localhost:8080/",
          "height": 156
        }
      },
      "source": [
        "print(\"This is what you entered: \\n________________________\\n\")\n",
        "print(\"Demand                       = {} per {}\".format(D, timeunit))\n",
        "print(\"Standard deviation of demand = {} per {}\".format(sD, timeunit))\n",
        "print(\"Leadtime                     = {} {}s\".format(L,timeunit))\n",
        "print(\"Length of Review Period      = {} {}s\".format(T,timeunit))\n",
        "print(\"Desired service level        = {}%\".format(CSL*100.0))"
      ],
      "execution_count": 4,
      "outputs": [
        {
          "output_type": "stream",
          "text": [
            "This is what you entered: \n",
            "________________________\n",
            "\n",
            "Demand                       = 2500 per week\n",
            "Standard deviation of demand = 500 per week\n",
            "Leadtime                     = 2 weeks\n",
            "Length of Review Period      = 4 weeks\n",
            "Desired service level        = 95.0%\n"
          ],
          "name": "stdout"
        }
      ]
    },
    {
      "cell_type": "markdown",
      "metadata": {
        "id": "oFZKDWBfV6US"
      },
      "source": [
        "Solution: Compute the reorder point (ROP) and safety stock ROP is the value of inventory position at which place an order Safety stock is the excess of stock over the mean demand during leadtime.\n",
        "\n",
        "Intermediate Calculation\n",
        "Mean demand during lead time plus review period: DTL = D*L\n",
        "\n",
        "SD of demand during lead time plus review period: sL = sD * sqrt(L)"
      ]
    },
    {
      "cell_type": "code",
      "metadata": {
        "id": "u535IIDwV7Qs",
        "outputId": "6902e0cb-3320-47f3-b5e5-44aa55c1e695",
        "colab": {
          "base_uri": "https://localhost:8080/",
          "height": 52
        }
      },
      "source": [
        "DTL = D*(T+L)\n",
        "sL = sD*np.sqrt(T+L)\n",
        "print(\"Mean demand during leadtime + review period  = {}\".format(DTL))\n",
        "print(\"SD of demand during leadtime + review period = {:.2f}\".format(sL))"
      ],
      "execution_count": 5,
      "outputs": [
        {
          "output_type": "stream",
          "text": [
            "Mean demand during leadtime + review period  = 15000\n",
            "SD of demand during leadtime + review period = 1224.74\n"
          ],
          "name": "stdout"
        }
      ]
    },
    {
      "cell_type": "markdown",
      "metadata": {
        "id": "lkGpvhSRWDOL"
      },
      "source": [
        "Safety stock is given by, ss = 𝑁𝑂𝑅𝑀𝑆𝐼𝑁𝑉(𝐶𝑆𝐿)×sL (here \"S\" stands for standard normal Reorder point ROP = DL + ss You can also directly compute ROP as NORMINV and directly enter mean and standard deviation along with CSL. In that case do not multiply by sL."
      ]
    },
    {
      "cell_type": "code",
      "metadata": {
        "id": "dssu28ZNWAGA",
        "outputId": "dd37a43b-d51c-43c8-9078-dd235f003790",
        "colab": {
          "base_uri": "https://localhost:8080/",
          "height": 52
        }
      },
      "source": [
        "ss = NormalDist.isf(1-CSL, 0, 1)*sL\n",
        "OUL = DTL + ss\n",
        "\n",
        "print(\"Safety Stock, ss   = {:.2f}\".format(ss))\n",
        "print(\"Order up to Level, OUL = {:.2f}\".format(OUL))"
      ],
      "execution_count": 6,
      "outputs": [
        {
          "output_type": "stream",
          "text": [
            "Safety Stock, ss   = 2014.53\n",
            "Order up to Level, OUL = 17014.53\n"
          ],
          "name": "stdout"
        }
      ]
    },
    {
      "cell_type": "markdown",
      "metadata": {
        "id": "dYhFxPYoXJxK"
      },
      "source": [
        "The quantity to order, Q = OUL - Inventory on Hand (I)\n",
        "\n"
      ]
    },
    {
      "cell_type": "code",
      "metadata": {
        "id": "zfai8tVsXLQp",
        "outputId": "67d71fd1-9c5a-4bc4-f61a-1a68f5432b3a",
        "colab": {
          "base_uri": "https://localhost:8080/",
          "height": 121
        }
      },
      "source": [
        "    I = input(\"Enter value of Inventory on Hand: \")\n",
        "    try:\n",
        "        inI = float(I)\n",
        "    except ValueError:\n",
        "        print(\"Inventory has to be a number\")\n",
        "        \n",
        "print(\"*********************************************\\n\")\n",
        "print(\"Inventory on Hand                    = {:.2f}\".format(inI))\n",
        "print(\"Order up to Level, OUL               = {:.2f}\".format(OUL))\n",
        "print(\"Quantity to Order, Q                 = {:.2f}\".format(OUL - inI))\n"
      ],
      "execution_count": 7,
      "outputs": [
        {
          "output_type": "stream",
          "text": [
            "Enter value of Inventory on Hand: 100\n",
            "*********************************************\n",
            "\n",
            "Inventory on Hand                    = 100.00\n",
            "Order up to Level, OUL               = 17014.53\n",
            "Quantity to Order, Q                 = 16914.53\n"
          ],
          "name": "stdout"
        }
      ]
    }
  ]
}
