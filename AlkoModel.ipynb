{
  "nbformat": 4,
  "nbformat_minor": 0,
  "metadata": {
    "anaconda-cloud": {},
    "kernelspec": {
      "display_name": "Python 3",
      "language": "python",
      "name": "python3"
    },
    "language_info": {
      "codemirror_mode": {
        "name": "ipython",
        "version": 3
      },
      "file_extension": ".py",
      "mimetype": "text/x-python",
      "name": "python",
      "nbconvert_exporter": "python",
      "pygments_lexer": "ipython3",
      "version": "3.5.1"
    },
    "colab": {
      "name": "AlkoModel.ipynb",
      "provenance": [],
      "collapsed_sections": [],
      "include_colab_link": true
    }
  },
  "cells": [
    {
      "cell_type": "markdown",
      "metadata": {
        "id": "view-in-github",
        "colab_type": "text"
      },
      "source": [
        "<a href=\"https://colab.research.google.com/github/SridharSeshadri56/Inventory-Models/blob/main/AlkoModel.ipynb\" target=\"_parent\"><img src=\"https://colab.research.google.com/assets/colab-badge.svg\" alt=\"Open In Colab\"/></a>"
      ]
    },
    {
      "cell_type": "markdown",
      "metadata": {
        "id": "bOj9y8wiQ42V"
      },
      "source": [
        "# Periodic Review Model"
      ]
    },
    {
      "cell_type": "markdown",
      "metadata": {
        "id": "UhTsIrmXQ42W"
      },
      "source": [
        "Initialize Packages"
      ]
    },
    {
      "cell_type": "code",
      "metadata": {
        "id": "kClNpLgoQ42a",
        "outputId": "e24199e6-a76c-4119-b27b-ac57aab1ca1c",
        "colab": {
          "base_uri": "https://localhost:8080/"
        }
      },
      "source": [
        "!pip install tabulate\n",
        "!pip install termcolor\n",
        "from tabulate import tabulate\n",
        "import numpy as np\n",
        "import pandas as pd\n",
        "from termcolor import colored\n",
        "\n",
        "from scipy import stats\n",
        "NormalDist = stats.norm"
      ],
      "execution_count": 1,
      "outputs": [
        {
          "output_type": "stream",
          "text": [
            "Requirement already satisfied: tabulate in /usr/local/lib/python3.6/dist-packages (0.8.7)\n",
            "Requirement already satisfied: termcolor in /usr/local/lib/python3.6/dist-packages (1.1.0)\n"
          ],
          "name": "stdout"
        }
      ]
    },
    {
      "cell_type": "code",
      "metadata": {
        "id": "zq2LffUpQ967"
      },
      "source": [
        "# Demand data for the five regions:\n",
        "\n",
        "meanA = pd.Series({'Region 1': 35.40, 'Region 2': 22.61,\n",
        "                  'Region 3': 17.66, 'Region 4': 11.81, 'Region 5': 3.36})\n",
        "stdA = pd.Series({'Region 1': 6.98, 'Region 2': 6.48,\n",
        "                 'Region 3': 5.26, 'Region 4': 3.48,\n",
        "                 'Region 5': 4.49})\n",
        "meanB = pd.Series({'Region 1': 2.48, 'Region 2': 4.15,\n",
        "                  'Region 3': 6.15, 'Region 4': 6.16,  'Region 5': 7.49})\n",
        "stdB = pd.Series({'Region 1': 3.16, 'Region 2': 6.20,\n",
        "                 'Region 3': 6.39, 'Region 4': 6.76,\n",
        "                 'Region 5': 3.56})\n",
        "meanC = pd.Series({'Region 1': .48, 'Region 2': 0.73,\n",
        "                  'Region 3': 0.80, 'Region 4': 1.94,  'Region 5': 2.54})\n",
        "stdC = pd.Series({'Region 1': 1.98, 'Region 2': 1.42,\n",
        "                 'Region 3': 2.39, 'Region 4': 3.76,\n",
        "                 'Region 5': 3.98})\n",
        "data = pd.DataFrame({'meanA':meanA, 'stdA': stdA, 'meanB':meanB,'stdB':stdB, 'meanC':meanC,'stdC':stdC})\n",
        "\n",
        "demandCorrelation = 0  # change this to see effect of correlation\n"
      ],
      "execution_count": 2,
      "outputs": []
    },
    {
      "cell_type": "code",
      "metadata": {
        "id": "yIoWZ0eMV0rQ"
      },
      "source": [
        "# Here we calculate the mean demand and standard deviation of demand for A,B,C items\n",
        "# at the central location.\n",
        "\n",
        "meanAcentral = 0\n",
        "meanBcentral = 0\n",
        "meanCcentral = 0\n",
        "varAcentral = 0\n",
        "varBcentral = 0\n",
        "varCcentral = 0\n",
        "for i in data.index:\n",
        "    meanAcentral += data.meanA[i]\n",
        "    meanBcentral += data.meanB[i]\n",
        "    meanCcentral += data.meanC[i]\n",
        "    varAcentral  += varAcentral*data.stdA[i]*demandCorrelation + data.stdA[i]**2\n",
        "    varBcentral  += varBcentral*data.stdB[i]*demandCorrelation + data.stdB[i]**2\n",
        "    varCcentral  += varCcentral*data.stdC[i]*demandCorrelation + data.stdC[i]**2\n",
        "\n",
        "x = {\"meanA\":meanAcentral, \"meanB\": meanBcentral, \"meanC\": meanCcentral, \"stdA\": np.sqrt(varAcentral),\"stdB\":  np.sqrt(varBcentral), \"stdC\": np.sqrt(varCcentral) }\n",
        "\n",
        "y = list(data.index)\n",
        "data = data.append(x,ignore_index=True)\n",
        "y.append('Central')\n",
        "data.index = y"
      ],
      "execution_count": 3,
      "outputs": []
    },
    {
      "cell_type": "code",
      "metadata": {
        "id": "u535IIDwV7Qs"
      },
      "source": [
        "# This is to arrange for printing and then print\n",
        "\n",
        "rows = []\n",
        "for i in data.index:\n",
        "    row = [i, data.meanA[i], data.stdA[i], data.meanB[i], data.stdB[i], data.meanC[i], data.stdC[i]]\n",
        "    rows.append(row)"
      ],
      "execution_count": 4,
      "outputs": []
    },
    {
      "cell_type": "code",
      "metadata": {
        "id": "dssu28ZNWAGA",
        "outputId": "ced766c8-12d2-44b0-ea29-9da99d877d51",
        "colab": {
          "base_uri": "https://localhost:8080/"
        }
      },
      "source": [
        "# Print demand data entered including the central data\n",
        "\n",
        "print(colored(\"\\nThis is the demand data you entered: \\n\", color = \"blue\"))\n",
        "print(tabulate(rows, headers = ['meanA', 'stdA', 'meanB', 'stdB', 'meanC', 'stdC'], \n",
        "               floatfmt= [\".1f\", \".1f\", \"0.2f\", \"0.2f\", \"0.2f\",\"0.2f\", \"0.2f\" ]))"
      ],
      "execution_count": 5,
      "outputs": [
        {
          "output_type": "stream",
          "text": [
            "\u001b[34m\n",
            "This is the demand data you entered: \n",
            "\u001b[0m\n",
            "            meanA    stdA    meanB    stdB    meanC    stdC\n",
            "--------  -------  ------  -------  ------  -------  ------\n",
            "Region 1     35.4    6.98     2.48    3.16     0.48    1.98\n",
            "Region 2     22.6    6.48     4.15    6.20     0.73    1.42\n",
            "Region 3     17.7    5.26     6.15    6.39     0.80    2.39\n",
            "Region 4     11.8    3.48     6.16    6.76     1.94    3.76\n",
            "Region 5      3.4    4.49     7.49    3.56     2.54    3.98\n",
            "Central      90.8   12.27    26.43   12.15     6.49    6.45\n"
          ],
          "name": "stdout"
        }
      ]
    },
    {
      "cell_type": "code",
      "metadata": {
        "id": "zfai8tVsXLQp"
      },
      "source": [
        "#Data for calculations -- these are parameter inputs\n",
        "\n",
        "DaysperYear = 365                  # Days per year \n",
        "HoldingCostperDay = 0.15           # Holding cost per day (H)\n",
        "TransportationCostperUnit = 0.19   # cost of transporting one unit to customer (Tc)\n",
        "SupplyLeadtime = 5                 # Supply Leadtime to warehouse (days) (L)\n",
        "ReviewPeriod = 6                   # Review Period (days) (R)\n",
        "CSL = 0.95                         # Cycle service level between 0 and 1\n",
        "WarehouseCost = 50000              # cost saved by closing warehouse\n",
        "\n",
        "numbers = pd.Series([10,20,70], index = [\"A\", \"B\", \"C\"])  # Number of A, B, C items\n",
        "\n",
        "centralTranspCost = 0.29           # central transportation cost\n",
        "\n",
        "# Arrange for Printing what was entered as parameters\n",
        "printrows = [(\"DaysperYear\", DaysperYear, \" # Days per year\"),\n",
        "(\"HoldingCostperDay\", HoldingCostperDay, \"# Holding cost per day (H)\"),\n",
        "(\"TransportationCostperUnit\", TransportationCostperUnit, \"# Cost of transporting one unit to customer (Tc)\"),\n",
        "(\"SupplyLeadtime\", SupplyLeadtime, \" # Supply Leadtime to warehouse (days) (L)\"),\n",
        "(\"ReviewPeriod\", ReviewPeriod, \"# Review Period (days) (R)\"),\n",
        "(\"CSL\", CSL, \" # Cycle service level between 0 and 1\"),\n",
        "(\"WarehouseCost\", WarehouseCost, \"# Cost saved by closing warehouse\"),\n",
        "(\"centralTranspCost\", centralTranspCost, \"# Central transportation cost per unit\")]"
      ],
      "execution_count": 7,
      "outputs": []
    },
    {
      "cell_type": "code",
      "metadata": {
        "id": "_vR9fqIoNrbK",
        "outputId": "7ed1771f-ec5b-4d96-fc0c-a22b808e687a",
        "colab": {
          "base_uri": "https://localhost:8080/"
        }
      },
      "source": [
        "print(colored(\"\\nThese are the parameters you entered: \\n\", color = \"blue\"))\n",
        "print(tabulate(printrows, headers = [\"Parameter\", \"Value\", \"Remarks\"] ))\n",
        "print(\"\\n\\n\")\n",
        "print(colored(\"The numbers of A, B and C items are:\", color = \"red\"))\n",
        "print(tabulate(pd.DataFrame(numbers)))"
      ],
      "execution_count": 8,
      "outputs": [
        {
          "output_type": "stream",
          "text": [
            "\u001b[34m\n",
            "These are the parameters you entered: \n",
            "\u001b[0m\n",
            "Parameter                     Value  Remarks\n",
            "-------------------------  --------  ------------------------------------------------\n",
            "DaysperYear                  365     # Days per year\n",
            "HoldingCostperDay              0.15  # Holding cost per day (H)\n",
            "TransportationCostperUnit      0.19  # Cost of transporting one unit to customer (Tc)\n",
            "SupplyLeadtime                 5     # Supply Leadtime to warehouse (days) (L)\n",
            "ReviewPeriod                   6     # Review Period (days) (R)\n",
            "CSL                            0.95  # Cycle service level between 0 and 1\n",
            "WarehouseCost              50000     # Cost saved by closing warehouse\n",
            "centralTranspCost              0.29  # Central transportation cost per unit\n",
            "\n",
            "\n",
            "\n",
            "\u001b[31mThe numbers of A, B and C items are:\u001b[0m\n",
            "-  --\n",
            "A  10\n",
            "B  20\n",
            "C  70\n",
            "-  --\n"
          ],
          "name": "stdout"
        }
      ]
    },
    {
      "cell_type": "code",
      "metadata": {
        "id": "EB5mkE4VNvXL"
      },
      "source": [
        "# Calculate costs for all regions including centralized option\n",
        "\n",
        "setNames = [(\"meanA\",\"meanB\", \"meanC\"), (\"stdA\", \"stdB\", \"stdC\")]\n",
        "rows = []\n",
        "rows1 = []\n",
        "totalCostA = 0\n",
        "totalCostB = 0\n",
        "totalCostC = 0\n",
        "totalInvA = 0\n",
        "totalInvB = 0\n",
        "totalInvC = 0\n",
        "\n",
        "for i in data.index:\n",
        "    for j in  range(3):\n",
        "       \n",
        "       meanD = data[setNames[0][j]][i]\n",
        "       stdD = data[setNames[1][j]][i]\n",
        "    \n",
        "       # safety stock = z * sqrt(T+L) * std deviation of demand\n",
        "       ss = NormalDist.isf(1-CSL, 0, 1)*np.sqrt(ReviewPeriod + SupplyLeadtime)*stdD\n",
        "\n",
        "       #Average cycle stock = D T/2\n",
        "        \n",
        "       cycleStock = meanD*ReviewPeriod/2\n",
        "       \n",
        "       # Inventory cost = Holding cost/day *(cycle stock + safety stock)\n",
        "       inventoryCost = HoldingCostperDay*(cycleStock+ ss)\n",
        "        \n",
        "       # Transportation cost = Transportation cost per unit * mean demand\n",
        "       transportationCost = TransportationCostperUnit*meanD\n",
        "       \n",
        "       if i == 'Central':\n",
        "        transportationCost = centralTranspCost*meanD\n",
        "       \n",
        "       #Cost per unit = (inventoryCost + transportationCost)/meanDdemand\n",
        "       costperUnit = (inventoryCost + transportationCost)/meanD\n",
        "    \n",
        "       #Order up to Level (OUL) = mean demand * Review Period + safety stock\n",
        "       OrderUptoLevel = meanD*(ReviewPeriod + SupplyLeadtime) + ss\n",
        "    \n",
        "       #Average Inventory = cycle stock + safety stock\n",
        "       averageInventory = cycleStock + ss\n",
        "    \n",
        "       # Days of inventory = average inventory/mean Demand\n",
        "       daysofInventory = (cycleStock + ss)/meanD \n",
        "    \n",
        "       # For a category like A, B or C, get total cost/year by mutiplying by days per year * number of items\n",
        "       # in the category\n",
        "       totalcostperyearCategory = (inventoryCost + transportationCost)*DaysperYear*numbers[j]\n",
        "       \n",
        "       #Add up cost of current situation for later reporting\n",
        "       if i!= 'Central':\n",
        "           if j == 0:\n",
        "            totalCostA +=     totalcostperyearCategory\n",
        "            totalInvA += averageInventory\n",
        "           elif j == 1:\n",
        "            totalCostB +=     totalcostperyearCategory\n",
        "            totalInvB += averageInventory\n",
        "           else:\n",
        "            totalCostC +=     totalcostperyearCategory\n",
        "            totalInvC += averageInventory\n",
        "            \n",
        "       if j == 0:\n",
        "        x = \"A\"\n",
        "       elif j == 1:\n",
        "        x = \"B\"\n",
        "       else:\n",
        "        x = \"C\"\n",
        "       \n",
        "    #Organize data for later reporting\n",
        "       row = [i+x, ss, cycleStock, inventoryCost, transportationCost, costperUnit, OrderUptoLevel]\n",
        "       rows.append(row)\n",
        "       row = [i+x,averageInventory, daysofInventory, totalcostperyearCategory]\n",
        "       rows1.append(row)"
      ],
      "execution_count": 9,
      "outputs": []
    },
    {
      "cell_type": "code",
      "metadata": {
        "id": "sm0IxvmtN4ZZ",
        "outputId": "fa7e9c21-4337-41c3-d48f-36c046232a8a",
        "colab": {
          "base_uri": "https://localhost:8080/"
        }
      },
      "source": [
        "#Print the regional and centralized cost\n",
        "\n",
        "print(tabulate(rows, headers =[\"\", \"Safety Stock\", \"Cycle Stock\", \"Inventory Cost\", \"TranspCost\", \"Cost/Unit\", \"OUL\"],\n",
        "              floatfmt= [\".1f\", \".1f\", \"0.2f\", \"0.2f\", \"0.2f\",\"0.2f\", \"0.2f\" ]),\"\\n\\n\")\n",
        "print(tabulate(rows1, headers =[\"\", \"Ave. Inventory\", \"Days of Inventory\", \"Total cost per year\"],\n",
        "              floatfmt= [\".1f\", \".1f\", \"0.2f\", \"0.2f\", \"0.2f\",\"0.2f\", \"0.2f\" ]))"
      ],
      "execution_count": 10,
      "outputs": [
        {
          "output_type": "stream",
          "text": [
            "             Safety Stock    Cycle Stock    Inventory Cost    TranspCost    Cost/Unit      OUL\n",
            "---------  --------------  -------------  ----------------  ------------  -----------  -------\n",
            "Region 1A            38.1         106.20             21.64          6.73         0.80   427.48\n",
            "Region 1B            17.2           7.44              3.70          0.47         1.68    44.52\n",
            "Region 1C            10.8           1.44              1.84          0.09         4.02    16.08\n",
            "Region 2A            35.4          67.83             15.48          4.30         0.87   284.06\n",
            "Region 2B            33.8          12.45              6.94          0.79         1.86    79.47\n",
            "Region 2C             7.7           2.19              1.49          0.14         2.23    15.78\n",
            "Region 3A            28.7          52.98             12.25          3.36         0.88   222.96\n",
            "Region 3B            34.9          18.45              8.00          1.17         1.49   102.51\n",
            "Region 3C            13.0           2.40              2.32          0.15         3.08    21.84\n",
            "Region 4A            19.0          35.43              8.16          2.24         0.88   148.89\n",
            "Region 4B            36.9          18.48              8.30          1.17         1.54   104.64\n",
            "Region 4C            20.5           5.82              3.95          0.37         2.23    41.85\n",
            "Region 5A            24.5          10.08              5.19          0.64         1.73    61.45\n",
            "Region 5B            19.4          22.47              6.28          1.42         1.03   101.81\n",
            "Region 5C            21.7           7.62              4.40          0.48         1.92    49.65\n",
            "CentralA             67.0         272.52             50.92         26.34         0.85  1066.20\n",
            "CentralB             66.3          79.29             21.84          7.66         1.12   357.01\n",
            "CentralC             35.2          19.47              8.20          1.88         1.55   106.59 \n",
            "\n",
            "\n",
            "             Ave. Inventory    Days of Inventory    Total cost per year\n",
            "---------  ----------------  -------------------  ---------------------\n",
            "Region 1A             144.3                 4.08              103542.34\n",
            "Region 1B              24.7                 9.95               30463.20\n",
            "Region 1C              12.2                25.50               49246.16\n",
            "Region 2A             103.2                 4.56               72171.49\n",
            "Region 2B              46.3                11.15               56425.25\n",
            "Region 2C               9.9                13.61               41625.86\n",
            "Region 3A              81.7                 4.62               56964.39\n",
            "Region 3B              53.3                 8.67               66904.24\n",
            "Region 3C              15.4                19.30               63050.95\n",
            "Region 4A              54.4                 4.61               37982.26\n",
            "Region 4B              55.4                 8.99               69161.20\n",
            "Region 4C              26.3                13.57              110335.74\n",
            "Region 5A              34.6                10.29               21259.74\n",
            "Region 5B              41.9                 5.59               56259.37\n",
            "Region 5C              29.3                11.55              124746.63\n",
            "CentralA              339.5                 3.74              282018.69\n",
            "CentralB              145.6                 5.51              215355.94\n",
            "CentralC               54.7                 8.42              257600.48\n"
          ],
          "name": "stdout"
        }
      ]
    },
    {
      "cell_type": "code",
      "metadata": {
        "id": "gL4V3AaCN9l5",
        "outputId": "bf6faaef-840b-4809-f262-bf547ba025c9",
        "colab": {
          "base_uri": "https://localhost:8080/"
        }
      },
      "source": [
        "# Compare total costs and inventory for centralized and regional warehouses\n",
        "\n",
        "row3 = [[\"Current\", totalCostA, totalCostB, totalCostC, totalInvA, totalInvB, totalInvC]]\n",
        "\n",
        "x = len(rows1)-1\n",
        "y = [\"Centralized\",rows1[x-2][3], rows1[x-1][3], rows1[x][3], rows1[x-2][1], rows1[x-1][1], rows1[x][1]]\n",
        "row3.append(y)\n",
        "print(tabulate(row3, headers = [\"\", \"Cost A\", \"Cost B\", \"Cost C\", \"Inventory A\", \"Inventory B\", \"Inventory C\"],\n",
        "               floatfmt= [\".1f\", \".1f\", \"0.2f\", \"0.2f\", \"0.2f\",\"0.2f\", \"0.2f\" ]))"
      ],
      "execution_count": 11,
      "outputs": [
        {
          "output_type": "stream",
          "text": [
            "               Cost A     Cost B     Cost C    Inventory A    Inventory B    Inventory C\n",
            "-----------  --------  ---------  ---------  -------------  -------------  -------------\n",
            "Current      291920.2  279213.28  389005.34         418.12         221.51          93.28\n",
            "Centralized  282018.7  215355.94  257600.48         339.48         145.57          54.67\n"
          ],
          "name": "stdout"
        }
      ]
    },
    {
      "cell_type": "code",
      "metadata": {
        "id": "S6ejH-mbOCIJ",
        "outputId": "9cfd29cd-ecac-48c3-aa0c-6971cc6c8131",
        "colab": {
          "base_uri": "https://localhost:8080/"
        }
      },
      "source": [
        "# compute the cost of centralized warehouse\n",
        "savingfromClosure = 50000\n",
        "numberofWarehousesClosed = 5\n",
        "\n",
        "totalDemandServedperDay = data.meanA['Central']*numbers['A']+data.meanB['Central']*numbers['B']+data.meanC['Central']*numbers['C']\n",
        "totalDemandServedperYear = totalDemandServedperDay*DaysperYear\n",
        "print(\"Total demand served per year              = {:.2f}\".format(totalDemandServedperYear))\n",
        "\n",
        "if totalDemandServedperYear < 400000:\n",
        "    warehouseCost = totalDemandServedperYear*2\n",
        "else:\n",
        "    warehouseCost = 800000 + (totalDemandServedperYear-400000)*1.5\n",
        "print(\"Cost of centralized warehouse             = {:.2f}\".format(warehouseCost))\n",
        "print (\"Savings from regional warehouse closures  = {:.2f}\".format(savingfromClosure*numberofWarehousesClosed))\n",
        "print(\"Net Investment                            = {:.2f}\".format(warehouseCost - savingfromClosure*numberofWarehousesClosed))\n",
        "print(\"Net operational savings per year          = {:.2f}\".format(totalCostA+ totalCostB+ totalCostC - (rows1[x-2][3]+ rows1[x-1][3]+ rows1[x][3])))"
      ],
      "execution_count": 12,
      "outputs": [
        {
          "output_type": "stream",
          "text": [
            "Total demand served per year              = 690324.50\n",
            "Cost of centralized warehouse             = 1235486.75\n",
            "Savings from regional warehouse closures  = 250000.00\n",
            "Net Investment                            = 985486.75\n",
            "Net operational savings per year          = 205163.73\n"
          ],
          "name": "stdout"
        }
      ]
    }
  ]
}